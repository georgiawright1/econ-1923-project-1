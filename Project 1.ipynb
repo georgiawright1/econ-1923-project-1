{
 "cells": [
  {
   "cell_type": "markdown",
   "id": "1e601bb6",
   "metadata": {},
   "source": [
    "# Econ 1923 - CPI project\n",
    "### Group #4: Georgia Wright, Jingyuan Liu, Rujian Zhang"
   ]
  },
  {
   "cell_type": "code",
   "execution_count": 1,
   "id": "03005872",
   "metadata": {},
   "outputs": [],
   "source": [
    "import requests\n",
    "import json\n",
    "import pandas as pd"
   ]
  },
  {
   "cell_type": "code",
   "execution_count": 2,
   "id": "62ce1caa",
   "metadata": {},
   "outputs": [
    {
     "name": "stdout",
     "output_type": "stream",
     "text": [
      "API keys loaded\n"
     ]
    }
   ],
   "source": [
    "%run APIkeys.py\n",
    "key = os.environ['BLS_API_key']"
   ]
  },
  {
   "cell_type": "markdown",
   "id": "d21ee7fa",
   "metadata": {},
   "source": [
    "## 2.1 Items and Weights\n",
    "Your basket must include at least 8 ingredients.\n",
    "https://download.bls.gov/pub/time.series/cu/cu.item"
   ]
  },
  {
   "cell_type": "markdown",
   "id": "e749ec61",
   "metadata": {},
   "source": [
    "Student expenses\n",
    "\n",
    "\n",
    "- SAR     Recreation; 0.4\n",
    "- SAH     Housing; 0.25\n",
    "- SAA     Apparel; 0.02\n",
    "- SAM     Medical care; 0.01\n",
    "- SEFV    Food away from home; 0.15\n",
    "- SAF11   Food at home; 0.1\n",
    "- SAS4    Transportation services; 0.06\n"
   ]
  },
  {
   "cell_type": "markdown",
   "id": "a5f6b483",
   "metadata": {},
   "source": [
    "## 2.2 Locations and weights\n",
    "The locations where these prices are measured. List at least three locations (cities/areas) based on where the team members either live now, lived in the past, or want to live in the future.\n",
    "2 Choose weights for these locations according to your liking."
   ]
  },
  {
   "cell_type": "markdown",
   "id": "2b6b4c4c",
   "metadata": {},
   "source": [
    "- S12B    Philadelphia, PA; weight: 0.5\n",
    "- S23A\t  Chicago, IL; weight: 0.3\n",
    "- S49D    Seattle, WA; weight: 0.2\n",
    "\n",
    "For items that did not exist in Philadelphia and Chicago we used Northeast and Midwest respectively "
   ]
  },
  {
   "cell_type": "markdown",
   "id": "935b932a",
   "metadata": {},
   "source": [
    "## 2.3 Finalizing the basket\n",
    "Combining the choices of items and locations, find all the series names. assign a weight for each series that combines the weights that you chose for the items and the weights you chose for the locations."
   ]
  },
  {
   "cell_type": "markdown",
   "id": "5ad8a3ab",
   "metadata": {},
   "source": [
    "\n",
    "**Finalized basket:**\n",
    "- CUURS23ASAR;       Recreation in Chicago; weight **0.22**\n",
    "- CUUR0200SAH;       Housing in Chicago; weight **0.17**\n",
    "- CUURS12BSAA;       Apparel in the Northeast; weight **0.16**\n",
    "- CUUR0100SAM;       Medicine Philadelphia; weight **0.04**\n",
    "- CUURS49DSEFV       Food away in NE; weight **0.11**\n",
    "- CUURS49DSAF111;    Food home in Seattle; weight **0.09**\n",
    "- CUURS23ASAR;       Recreation in Philadelphia; weight **0.13**\n",
    "- CUUR0200SAS4;      Public Transportation in Philadelphia; weight **0.08**"
   ]
  },
  {
   "cell_type": "markdown",
   "id": "92d300bc",
   "metadata": {},
   "source": [
    "## 3. Downloading the data \n",
    "### 3.1 Refine the basket\n",
    "First, verify that the series you created in the previous section exist in the BLS’ API. If some items do not exist, take them out and re-weight. If a certain location produces all the missing series, replace that location with a bigger or more general location.3\n",
    "After you made all the changes and adjustments, state the final basket and the weights for each item in the basket. Table format will be great here."
   ]
  },
  {
   "cell_type": "code",
   "execution_count": 3,
   "id": "453deee5",
   "metadata": {},
   "outputs": [],
   "source": [
    "# what items exist for philadelphia: all except public transportation\n",
    "basket2 = ['CUURS12BSAR', 'CUURS12BSAH', 'CUURS12BSAA', 'CUURS12BSAM', 'CUURS12BSEFV', 'CUURS12BSAF11', \n",
    "          'CUURS12BSAF114', 'CUURS12BSAS4']"
   ]
  },
  {
   "cell_type": "code",
   "execution_count": 4,
   "id": "f4e498b9",
   "metadata": {},
   "outputs": [],
   "source": [
    "# what items exist for Northeast: all\n",
    "basket3  = ['CUUR0100SAR', 'CUUR0100SAH', 'CUUR0100SAA', 'CUUR0100SAM', 'CUUR0100SEFV', 'CUUR0100SAF11', \n",
    "          'CUUR0100SAF114', 'CUUR0100SAS4']"
   ]
  },
  {
   "cell_type": "code",
   "execution_count": 5,
   "id": "4d3ae682",
   "metadata": {},
   "outputs": [],
   "source": [
    "# what items exist for Chicago: all except transportation\n",
    "basket4 = ['CUURS23ASAR', 'CUURS23ASAH', 'CUURS23ASAA', 'CUURS23ASAM', 'CUURS23ASEFV', 'CUURS23ASAF11', \n",
    "          'CUURS23ASAF114', 'CUURS23ASAS4']"
   ]
  },
  {
   "cell_type": "code",
   "execution_count": 6,
   "id": "1a9efd36",
   "metadata": {},
   "outputs": [],
   "source": [
    "# what items exist for midwest: all\n",
    "basket5 = ['CUUR0200SAR', 'CUUR0200SAH', 'CUUR0200SAA', 'CUUR0200SAM', 'CUUR0200SEFV', 'CUUR0200SAF11', \n",
    "          'CUUR0200SAF114', 'CUUR0200SAS4']"
   ]
  },
  {
   "cell_type": "code",
   "execution_count": 7,
   "id": "a87b6c68",
   "metadata": {},
   "outputs": [],
   "source": [
    "# what items exist for Seattle: all except transportation\n",
    "basket6  = ['CUURS49DSAR', 'CUURS49DSAH', 'CUURS49DSAA', 'CUURS49DSAM', 'CUURS49DSEFV', 'CUURS49DSAF11', \n",
    "          'CUURS49DSAF114', 'CUURS49DSAS4']"
   ]
  },
  {
   "cell_type": "code",
   "execution_count": 51,
   "id": "43da5c26",
   "metadata": {},
   "outputs": [],
   "source": [
    "# this chunk contains finalized basket with general cpi included\n",
    "basket = ['CUURS23ASAR', 'CUURS23ASAH', 'CUURS12BSAA', 'CUURS12BSAM', 'CUURS49DSEFV', 'CUURS49DSAF11', \n",
    "          'CUURS12BSAR', 'CUUR0100SAS4', 'CUUR0000SA0']"
   ]
  },
  {
   "cell_type": "code",
   "execution_count": 9,
   "id": "f70de93b",
   "metadata": {},
   "outputs": [],
   "source": [
    "def Series(varList,myKey):\n",
    "    base_url = 'https://api.bls.gov/publicAPI/v2/timeseries/data/'  #this will not change\n",
    "    headers = {'Content-type': 'application/json'}  #This will not changed !\n",
    "\n",
    "    parameters = {\n",
    "        \"seriesid\":varList,\n",
    "        \"startyear\":\"2012\", \n",
    "        \"endyear\":\"2022\",\n",
    "        \"catalog\":True, \n",
    "        \"calculations\":False, \n",
    "        \"annualaverage\":False,\n",
    "        \"aspects\":False,\n",
    "        \"registrationkey\": myKey \n",
    "     }\n",
    "\n",
    "    data = json.dumps(parameters) #this converts the Python dictionary into a JSON format\n",
    "    \n",
    "    p = requests.post(base_url, data=data, headers=headers)\n",
    "    json_data = json.loads(p.text)\n",
    "    \n",
    "    n = len(varList) #number of series requested\n",
    "    \n",
    "    for i in range(n):\n",
    "        if json_data['Results']['series'][i]['data'] == []:\n",
    "            print('Series ',varList[i],' does not exist')\n",
    "        else:\n",
    "            print('Series ',varList[i],' exists')\n",
    "    \n",
    "    return json_data"
   ]
  },
  {
   "cell_type": "code",
   "execution_count": 52,
   "id": "a49a0a15",
   "metadata": {},
   "outputs": [
    {
     "name": "stdout",
     "output_type": "stream",
     "text": [
      "Series  CUURS23ASAR  exists\n",
      "Series  CUURS23ASAH  exists\n",
      "Series  CUURS12BSAA  exists\n",
      "Series  CUURS12BSAM  exists\n",
      "Series  CUURS49DSEFV  exists\n",
      "Series  CUURS49DSAF11  exists\n",
      "Series  CUURS12BSAR  exists\n",
      "Series  CUUR0100SAS4  exists\n",
      "Series  CUUR0000SA0  exists\n"
     ]
    }
   ],
   "source": [
    "# we tested each of the above baskets to see which of our selected items exist for each area\n",
    "result = Series(basket,key)"
   ]
  },
  {
   "cell_type": "markdown",
   "id": "b841decb",
   "metadata": {},
   "source": [
    "### 3.2 Downloading\n",
    "Make an API call to download the data for the basket you created. I ask that you have data for the last 5 years: January 2017 to January 2022. Make sure your API call retrieves data for this range.\n",
    "Include the general CPI (CUUR0000SA0) in your API call.\n",
    "Question: Are all the series you downloaded in a monthly frequency? If not, how can you fix that (i.e. interpolate)."
   ]
  },
  {
   "cell_type": "code",
   "execution_count": 11,
   "id": "90dcd7f8",
   "metadata": {},
   "outputs": [],
   "source": [
    "#create data frame with all of our data\n",
    "def Series2(varList,myKey):\n",
    "    # Input: varList = a list of strings containing the series names\n",
    "    # Input: myKey =  a string containing your BLS API key\n",
    "    # Output: new_df = a data frame containing the data collected\n",
    "    \n",
    "    base_url = 'https://api.bls.gov/publicAPI/v2/timeseries/data/'  \n",
    "    headers = {'Content-type': 'application/json'}  \n",
    "\n",
    "    parameters = {\n",
    "        \"seriesid\":varList,\n",
    "        \"startyear\":\"2017\", \n",
    "        \"endyear\":\"2022\",\n",
    "        \"catalog\":True, \n",
    "        \"calculations\":False, \n",
    "        \"annualaverage\":False,\n",
    "        \"aspects\":False,\n",
    "        \"registrationkey\": myKey \n",
    "     }\n",
    "\n",
    "    data = json.dumps(parameters) # converts the Python dictionary into a JSON format\n",
    "    \n",
    "    p = requests.post(base_url, data=data, headers=headers)\n",
    "    json_data = json.loads(p.text)\n",
    "    \n",
    "    n = len(varList) #number of series requested\n",
    "    \n",
    "    new_df = pd.DataFrame(columns=['year', 'period'])\n",
    "    for item in range(n):\n",
    "        l = len(json_data['Results']['series'][item]['data']) #length of the list\n",
    "        if l == 0:\n",
    "            print('Series ',varList[item],' does not exist')\n",
    "        else:\n",
    "            \n",
    "            print('Series ',varList[item],' exists with ',l,' observations')\n",
    "            d = json_data['Results']['series'][item]['data']\n",
    "            current_df = pd.DataFrame(data=d)\n",
    "            current_df = current_df[['year','period','value']].astype({'value': 'float64'})\n",
    "            current_df = current_df.rename(columns = {'value':varList[item]}) \n",
    "            \n",
    "            new_df = new_df.merge(current_df, on = ['year','period'],how='outer')\n",
    "    \n",
    "    return new_df\n"
   ]
  },
  {
   "cell_type": "code",
   "execution_count": 53,
   "id": "40568f24",
   "metadata": {},
   "outputs": [
    {
     "name": "stdout",
     "output_type": "stream",
     "text": [
      "Series  CUURS23ASAR  exists with  69  observations\n",
      "Series  CUURS23ASAH  exists with  69  observations\n",
      "Series  CUURS12BSAA  exists with  34  observations\n",
      "Series  CUURS12BSAM  exists with  34  observations\n",
      "Series  CUURS49DSEFV  exists with  34  observations\n",
      "Series  CUURS49DSAF11  exists with  69  observations\n",
      "Series  CUURS12BSAR  exists with  34  observations\n",
      "Series  CUUR0100SAS4  exists with  69  observations\n",
      "Series  CUUR0000SA0  exists with  69  observations\n"
     ]
    }
   ],
   "source": [
    "# call our items to put into data frame\n",
    "myBasket = ['CUURS23ASAR', 'CUURS23ASAH', 'CUURS12BSAA', 'CUURS12BSAM', 'CUURS49DSEFV', 'CUURS49DSAF11', \n",
    "          'CUURS12BSAR', 'CUUR0100SAS4', 'CUUR0000SA0']\n",
    "myData = Series2(myBasket,key)"
   ]
  },
  {
   "cell_type": "code",
   "execution_count": 54,
   "id": "5a520e04",
   "metadata": {},
   "outputs": [
    {
     "data": {
      "text/html": [
       "<div>\n",
       "<style scoped>\n",
       "    .dataframe tbody tr th:only-of-type {\n",
       "        vertical-align: middle;\n",
       "    }\n",
       "\n",
       "    .dataframe tbody tr th {\n",
       "        vertical-align: top;\n",
       "    }\n",
       "\n",
       "    .dataframe thead th {\n",
       "        text-align: right;\n",
       "    }\n",
       "</style>\n",
       "<table border=\"1\" class=\"dataframe\">\n",
       "  <thead>\n",
       "    <tr style=\"text-align: right;\">\n",
       "      <th></th>\n",
       "      <th>year</th>\n",
       "      <th>period</th>\n",
       "      <th>CUURS23ASAR</th>\n",
       "      <th>CUURS23ASAH</th>\n",
       "      <th>CUURS12BSAA</th>\n",
       "      <th>CUURS12BSAM</th>\n",
       "      <th>CUURS49DSEFV</th>\n",
       "      <th>CUURS49DSAF11</th>\n",
       "      <th>CUURS12BSAR</th>\n",
       "      <th>CUUR0100SAS4</th>\n",
       "      <th>CUUR0000SA0</th>\n",
       "    </tr>\n",
       "  </thead>\n",
       "  <tbody>\n",
       "    <tr>\n",
       "      <th>0</th>\n",
       "      <td>2022</td>\n",
       "      <td>M09</td>\n",
       "      <td>124.488</td>\n",
       "      <td>296.184</td>\n",
       "      <td>NaN</td>\n",
       "      <td>NaN</td>\n",
       "      <td>NaN</td>\n",
       "      <td>315.815</td>\n",
       "      <td>NaN</td>\n",
       "      <td>330.030</td>\n",
       "      <td>296.808</td>\n",
       "    </tr>\n",
       "    <tr>\n",
       "      <th>1</th>\n",
       "      <td>2022</td>\n",
       "      <td>M08</td>\n",
       "      <td>123.405</td>\n",
       "      <td>295.010</td>\n",
       "      <td>112.289</td>\n",
       "      <td>599.558</td>\n",
       "      <td>391.714</td>\n",
       "      <td>317.676</td>\n",
       "      <td>131.309</td>\n",
       "      <td>322.957</td>\n",
       "      <td>296.171</td>\n",
       "    </tr>\n",
       "    <tr>\n",
       "      <th>2</th>\n",
       "      <td>2022</td>\n",
       "      <td>M07</td>\n",
       "      <td>120.838</td>\n",
       "      <td>293.135</td>\n",
       "      <td>NaN</td>\n",
       "      <td>NaN</td>\n",
       "      <td>NaN</td>\n",
       "      <td>317.686</td>\n",
       "      <td>NaN</td>\n",
       "      <td>322.235</td>\n",
       "      <td>296.276</td>\n",
       "    </tr>\n",
       "    <tr>\n",
       "      <th>3</th>\n",
       "      <td>2022</td>\n",
       "      <td>M06</td>\n",
       "      <td>120.646</td>\n",
       "      <td>291.346</td>\n",
       "      <td>108.908</td>\n",
       "      <td>596.423</td>\n",
       "      <td>377.700</td>\n",
       "      <td>311.685</td>\n",
       "      <td>132.941</td>\n",
       "      <td>327.757</td>\n",
       "      <td>296.311</td>\n",
       "    </tr>\n",
       "    <tr>\n",
       "      <th>4</th>\n",
       "      <td>2022</td>\n",
       "      <td>M05</td>\n",
       "      <td>120.756</td>\n",
       "      <td>286.126</td>\n",
       "      <td>NaN</td>\n",
       "      <td>NaN</td>\n",
       "      <td>NaN</td>\n",
       "      <td>310.451</td>\n",
       "      <td>NaN</td>\n",
       "      <td>313.308</td>\n",
       "      <td>292.296</td>\n",
       "    </tr>\n",
       "    <tr>\n",
       "      <th>...</th>\n",
       "      <td>...</td>\n",
       "      <td>...</td>\n",
       "      <td>...</td>\n",
       "      <td>...</td>\n",
       "      <td>...</td>\n",
       "      <td>...</td>\n",
       "      <td>...</td>\n",
       "      <td>...</td>\n",
       "      <td>...</td>\n",
       "      <td>...</td>\n",
       "      <td>...</td>\n",
       "    </tr>\n",
       "    <tr>\n",
       "      <th>64</th>\n",
       "      <td>2017</td>\n",
       "      <td>M05</td>\n",
       "      <td>111.163</td>\n",
       "      <td>241.575</td>\n",
       "      <td>NaN</td>\n",
       "      <td>NaN</td>\n",
       "      <td>NaN</td>\n",
       "      <td>249.725</td>\n",
       "      <td>NaN</td>\n",
       "      <td>288.119</td>\n",
       "      <td>244.733</td>\n",
       "    </tr>\n",
       "    <tr>\n",
       "      <th>65</th>\n",
       "      <td>2017</td>\n",
       "      <td>M04</td>\n",
       "      <td>113.185</td>\n",
       "      <td>240.022</td>\n",
       "      <td>113.182</td>\n",
       "      <td>507.716</td>\n",
       "      <td>296.316</td>\n",
       "      <td>248.565</td>\n",
       "      <td>123.055</td>\n",
       "      <td>286.502</td>\n",
       "      <td>244.524</td>\n",
       "    </tr>\n",
       "    <tr>\n",
       "      <th>66</th>\n",
       "      <td>2017</td>\n",
       "      <td>M03</td>\n",
       "      <td>113.501</td>\n",
       "      <td>239.698</td>\n",
       "      <td>NaN</td>\n",
       "      <td>NaN</td>\n",
       "      <td>NaN</td>\n",
       "      <td>249.135</td>\n",
       "      <td>NaN</td>\n",
       "      <td>284.340</td>\n",
       "      <td>243.801</td>\n",
       "    </tr>\n",
       "    <tr>\n",
       "      <th>67</th>\n",
       "      <td>2017</td>\n",
       "      <td>M02</td>\n",
       "      <td>111.345</td>\n",
       "      <td>240.382</td>\n",
       "      <td>114.340</td>\n",
       "      <td>508.405</td>\n",
       "      <td>294.503</td>\n",
       "      <td>247.070</td>\n",
       "      <td>124.295</td>\n",
       "      <td>284.875</td>\n",
       "      <td>243.603</td>\n",
       "    </tr>\n",
       "    <tr>\n",
       "      <th>68</th>\n",
       "      <td>2017</td>\n",
       "      <td>M01</td>\n",
       "      <td>107.772</td>\n",
       "      <td>240.097</td>\n",
       "      <td>NaN</td>\n",
       "      <td>NaN</td>\n",
       "      <td>NaN</td>\n",
       "      <td>242.755</td>\n",
       "      <td>NaN</td>\n",
       "      <td>280.931</td>\n",
       "      <td>242.839</td>\n",
       "    </tr>\n",
       "  </tbody>\n",
       "</table>\n",
       "<p>69 rows × 11 columns</p>\n",
       "</div>"
      ],
      "text/plain": [
       "    year period  CUURS23ASAR  CUURS23ASAH  CUURS12BSAA  CUURS12BSAM  \\\n",
       "0   2022    M09      124.488      296.184          NaN          NaN   \n",
       "1   2022    M08      123.405      295.010      112.289      599.558   \n",
       "2   2022    M07      120.838      293.135          NaN          NaN   \n",
       "3   2022    M06      120.646      291.346      108.908      596.423   \n",
       "4   2022    M05      120.756      286.126          NaN          NaN   \n",
       "..   ...    ...          ...          ...          ...          ...   \n",
       "64  2017    M05      111.163      241.575          NaN          NaN   \n",
       "65  2017    M04      113.185      240.022      113.182      507.716   \n",
       "66  2017    M03      113.501      239.698          NaN          NaN   \n",
       "67  2017    M02      111.345      240.382      114.340      508.405   \n",
       "68  2017    M01      107.772      240.097          NaN          NaN   \n",
       "\n",
       "    CUURS49DSEFV  CUURS49DSAF11  CUURS12BSAR  CUUR0100SAS4  CUUR0000SA0  \n",
       "0            NaN        315.815          NaN       330.030      296.808  \n",
       "1        391.714        317.676      131.309       322.957      296.171  \n",
       "2            NaN        317.686          NaN       322.235      296.276  \n",
       "3        377.700        311.685      132.941       327.757      296.311  \n",
       "4            NaN        310.451          NaN       313.308      292.296  \n",
       "..           ...            ...          ...           ...          ...  \n",
       "64           NaN        249.725          NaN       288.119      244.733  \n",
       "65       296.316        248.565      123.055       286.502      244.524  \n",
       "66           NaN        249.135          NaN       284.340      243.801  \n",
       "67       294.503        247.070      124.295       284.875      243.603  \n",
       "68           NaN        242.755          NaN       280.931      242.839  \n",
       "\n",
       "[69 rows x 11 columns]"
      ]
     },
     "execution_count": 54,
     "metadata": {},
     "output_type": "execute_result"
    }
   ],
   "source": [
    "myData \n",
    "# interpolate CUURS12BSAA, CUURS12BSAM, CUURS49DSEFV, and CUURS12BSAR"
   ]
  },
  {
   "cell_type": "code",
   "execution_count": 14,
   "id": "af90377f",
   "metadata": {},
   "outputs": [
    {
     "data": {
      "text/plain": [
       "year              object\n",
       "period            object\n",
       "CUURS23ASAR      float64\n",
       "CUUR0200SAH      float64\n",
       "CUURS12BSAA      float64\n",
       "CUUR0100SAM      float64\n",
       "CUURS49DSEFV     float64\n",
       "CUURS49DSAF11    float64\n",
       "CUURS12BSAR      float64\n",
       "CUUR0100SAS4     float64\n",
       "CUUR0000SA0      float64\n",
       "dtype: object"
      ]
     },
     "execution_count": 14,
     "metadata": {},
     "output_type": "execute_result"
    }
   ],
   "source": [
    "# check data types to make sure we can use values in calculations\n",
    "myData.dtypes"
   ]
  },
  {
   "cell_type": "markdown",
   "id": "6289ccbd",
   "metadata": {},
   "source": [
    "## 4. Aggregating\n",
    "Compute your version of the CPI based on the weights in 2.3."
   ]
  },
  {
   "cell_type": "markdown",
   "id": "853871b2",
   "metadata": {},
   "source": [
    " CPI = 0.22(CUURS23ASAR) + 0.17(CUUR0200SAH) + 0.16(CUURS12BSAA) + 0.04(CUUR0100SAM) + 0.11(CUURS49DSEFV) + 0.09(CUURS49DSAF111) + 0.13(CUURS12BSAR) + 0.08(CUUR0100SAS4)\n"
   ]
  },
  {
   "cell_type": "code",
   "execution_count": 15,
   "id": "349f5803",
   "metadata": {},
   "outputs": [],
   "source": [
    "# interpolating for CUURS12BSAA, CUURS12BSAM, CUURS49DSEFV, and CUURS12BSAR\n",
    "def bimonthly2monthly(myData, ser):\n",
    "    # This function take a column named ser in the data frame myData and change it from bi monthly to monthly by interpolating the data\n",
    "    # NOTE: This function assumes that myData is sorted from the latest month (position zero) to the oldest month\n",
    "    #  before using this function, it will be safe to run the command:  myData.sort_values(by=['year','period'],inplace=True,ascending=False)\n",
    "    \n",
    "    n = len (myData[ser]) # number of rows\n",
    "\n",
    "    #first ignore the cases where either the first or the last observations are missing\n",
    "    # we start by looping over the indeces from 1 (which is the second place in Python)\n",
    "    # upto (but not including) the last observation ()\n",
    "\n",
    "    for i in range(1,n-1):\n",
    "        if pd.isna(myData[ser].iat[i]): #the value in place i is NaN\n",
    "            myData[ser].iat[i] = math.sqrt(myData[ser].iat[i-1]*myData[ser].iat[i+1]) #replace NaN with a geometric avg of i-1 and i+1\n",
    "\n",
    "        # after the above stage all the middle observations are full. Now we can treat the first and last one\n",
    "\n",
    "    if pd.isna(myData[ser].iat[0]): #the value in the first place is NaN\n",
    "            myData[ser].iat[0] = myData[ser].iat[1]*(myData[ser].iat[1]/myData[ser].iat[2]) #assume the same growth rate from 2 to 1 to be from 1 to 0\n",
    "\n",
    "    if pd.isna(myData[ser].iat[n-1]): #the value in the last place is NaN\n",
    "            myData[ser].iat[n-1] = myData[ser].iat[n-2]*(myData[ser].iat[n-2]/myData[ser].iat[n-3]) #assume the same growth rate from n-2 to n-3 to be n-2 to n-1\n",
    "\n",
    "    return myData\n",
    "  \n",
    "  # Usage (after you created your dataframe using multiSeriesV4() ):\n",
    "\n",
    "  # First, sort the dataframe using:  \n",
    "  #              df.sort_values(by=['year','period'],inplace=True,ascending=False)\n",
    "  # (replace df with the name you used for your data frame)\n",
    "\n",
    "  # Second, use this function:\n",
    "  #              df = bimonthly2monthly(df,'CUURS12BSAR')\n",
    "  # (replace df with the name you used for your data frame and replace 'CUURS12BSAR' with a series name you used)\n",
    "  # The function works on one series on a time (but you could put it in a loop."
   ]
  },
  {
   "cell_type": "code",
   "execution_count": 16,
   "id": "263b9fb3",
   "metadata": {},
   "outputs": [],
   "source": [
    "import math"
   ]
  },
  {
   "cell_type": "code",
   "execution_count": 55,
   "id": "1210886c",
   "metadata": {},
   "outputs": [],
   "source": [
    "# interpolate CUURS12BSAA\n",
    "df = bimonthly2monthly(myData,'CUURS12BSAA')"
   ]
  },
  {
   "cell_type": "code",
   "execution_count": 56,
   "id": "365ba6a0",
   "metadata": {},
   "outputs": [],
   "source": [
    "# interpolate CUURS12BSAM\n",
    "df = bimonthly2monthly(myData,'CUURS12BSAM')"
   ]
  },
  {
   "cell_type": "code",
   "execution_count": 57,
   "id": "51f7253b",
   "metadata": {},
   "outputs": [],
   "source": [
    "# interpolate CUURS49DSEFV\n",
    "df2 = bimonthly2monthly(myData,'CUURS49DSEFV')"
   ]
  },
  {
   "cell_type": "code",
   "execution_count": 58,
   "id": "952c06b3",
   "metadata": {},
   "outputs": [],
   "source": [
    "# interpolate CUURS12BSAR\n",
    "df3 = bimonthly2monthly(myData,'CUURS12BSAR')"
   ]
  },
  {
   "cell_type": "code",
   "execution_count": 59,
   "id": "3f4ea251",
   "metadata": {},
   "outputs": [
    {
     "data": {
      "text/html": [
       "<div>\n",
       "<style scoped>\n",
       "    .dataframe tbody tr th:only-of-type {\n",
       "        vertical-align: middle;\n",
       "    }\n",
       "\n",
       "    .dataframe tbody tr th {\n",
       "        vertical-align: top;\n",
       "    }\n",
       "\n",
       "    .dataframe thead th {\n",
       "        text-align: right;\n",
       "    }\n",
       "</style>\n",
       "<table border=\"1\" class=\"dataframe\">\n",
       "  <thead>\n",
       "    <tr style=\"text-align: right;\">\n",
       "      <th></th>\n",
       "      <th>year</th>\n",
       "      <th>period</th>\n",
       "      <th>CUURS23ASAR</th>\n",
       "      <th>CUURS23ASAH</th>\n",
       "      <th>CUURS12BSAA</th>\n",
       "      <th>CUURS12BSAM</th>\n",
       "      <th>CUURS49DSEFV</th>\n",
       "      <th>CUURS49DSAF11</th>\n",
       "      <th>CUURS12BSAR</th>\n",
       "      <th>CUUR0100SAS4</th>\n",
       "      <th>CUUR0000SA0</th>\n",
       "    </tr>\n",
       "  </thead>\n",
       "  <tbody>\n",
       "    <tr>\n",
       "      <th>0</th>\n",
       "      <td>2022</td>\n",
       "      <td>M09</td>\n",
       "      <td>124.488</td>\n",
       "      <td>296.184</td>\n",
       "      <td>114.018659</td>\n",
       "      <td>601.131674</td>\n",
       "      <td>398.914799</td>\n",
       "      <td>315.815</td>\n",
       "      <td>130.500528</td>\n",
       "      <td>330.030</td>\n",
       "      <td>296.808</td>\n",
       "    </tr>\n",
       "    <tr>\n",
       "      <th>1</th>\n",
       "      <td>2022</td>\n",
       "      <td>M08</td>\n",
       "      <td>123.405</td>\n",
       "      <td>295.010</td>\n",
       "      <td>112.289000</td>\n",
       "      <td>599.558000</td>\n",
       "      <td>391.714000</td>\n",
       "      <td>317.676</td>\n",
       "      <td>131.309000</td>\n",
       "      <td>322.957</td>\n",
       "      <td>296.171</td>\n",
       "    </tr>\n",
       "    <tr>\n",
       "      <th>2</th>\n",
       "      <td>2022</td>\n",
       "      <td>M07</td>\n",
       "      <td>120.838</td>\n",
       "      <td>293.135</td>\n",
       "      <td>110.585580</td>\n",
       "      <td>597.988446</td>\n",
       "      <td>384.643182</td>\n",
       "      <td>317.686</td>\n",
       "      <td>132.122480</td>\n",
       "      <td>322.235</td>\n",
       "      <td>296.276</td>\n",
       "    </tr>\n",
       "    <tr>\n",
       "      <th>3</th>\n",
       "      <td>2022</td>\n",
       "      <td>M06</td>\n",
       "      <td>120.646</td>\n",
       "      <td>291.346</td>\n",
       "      <td>108.908000</td>\n",
       "      <td>596.423000</td>\n",
       "      <td>377.700000</td>\n",
       "      <td>311.685</td>\n",
       "      <td>132.941000</td>\n",
       "      <td>327.757</td>\n",
       "      <td>296.311</td>\n",
       "    </tr>\n",
       "    <tr>\n",
       "      <th>4</th>\n",
       "      <td>2022</td>\n",
       "      <td>M05</td>\n",
       "      <td>120.756</td>\n",
       "      <td>286.126</td>\n",
       "      <td>108.674750</td>\n",
       "      <td>594.469300</td>\n",
       "      <td>374.938404</td>\n",
       "      <td>310.451</td>\n",
       "      <td>132.083233</td>\n",
       "      <td>313.308</td>\n",
       "      <td>292.296</td>\n",
       "    </tr>\n",
       "    <tr>\n",
       "      <th>...</th>\n",
       "      <td>...</td>\n",
       "      <td>...</td>\n",
       "      <td>...</td>\n",
       "      <td>...</td>\n",
       "      <td>...</td>\n",
       "      <td>...</td>\n",
       "      <td>...</td>\n",
       "      <td>...</td>\n",
       "      <td>...</td>\n",
       "      <td>...</td>\n",
       "      <td>...</td>\n",
       "    </tr>\n",
       "    <tr>\n",
       "      <th>64</th>\n",
       "      <td>2017</td>\n",
       "      <td>M05</td>\n",
       "      <td>111.163</td>\n",
       "      <td>241.575</td>\n",
       "      <td>111.730695</td>\n",
       "      <td>508.752941</td>\n",
       "      <td>296.533420</td>\n",
       "      <td>249.725</td>\n",
       "      <td>122.971472</td>\n",
       "      <td>288.119</td>\n",
       "      <td>244.733</td>\n",
       "    </tr>\n",
       "    <tr>\n",
       "      <th>65</th>\n",
       "      <td>2017</td>\n",
       "      <td>M04</td>\n",
       "      <td>113.185</td>\n",
       "      <td>240.022</td>\n",
       "      <td>113.182000</td>\n",
       "      <td>507.716000</td>\n",
       "      <td>296.316000</td>\n",
       "      <td>248.565</td>\n",
       "      <td>123.055000</td>\n",
       "      <td>286.502</td>\n",
       "      <td>244.524</td>\n",
       "    </tr>\n",
       "    <tr>\n",
       "      <th>66</th>\n",
       "      <td>2017</td>\n",
       "      <td>M03</td>\n",
       "      <td>113.501</td>\n",
       "      <td>239.698</td>\n",
       "      <td>113.759527</td>\n",
       "      <td>508.060383</td>\n",
       "      <td>295.408109</td>\n",
       "      <td>249.135</td>\n",
       "      <td>123.673446</td>\n",
       "      <td>284.340</td>\n",
       "      <td>243.801</td>\n",
       "    </tr>\n",
       "    <tr>\n",
       "      <th>67</th>\n",
       "      <td>2017</td>\n",
       "      <td>M02</td>\n",
       "      <td>111.345</td>\n",
       "      <td>240.382</td>\n",
       "      <td>114.340000</td>\n",
       "      <td>508.405000</td>\n",
       "      <td>294.503000</td>\n",
       "      <td>247.070</td>\n",
       "      <td>124.295000</td>\n",
       "      <td>284.875</td>\n",
       "      <td>243.603</td>\n",
       "    </tr>\n",
       "    <tr>\n",
       "      <th>68</th>\n",
       "      <td>2017</td>\n",
       "      <td>M01</td>\n",
       "      <td>107.772</td>\n",
       "      <td>240.097</td>\n",
       "      <td>114.923435</td>\n",
       "      <td>508.749851</td>\n",
       "      <td>293.600664</td>\n",
       "      <td>242.755</td>\n",
       "      <td>124.919678</td>\n",
       "      <td>280.931</td>\n",
       "      <td>242.839</td>\n",
       "    </tr>\n",
       "  </tbody>\n",
       "</table>\n",
       "<p>69 rows × 11 columns</p>\n",
       "</div>"
      ],
      "text/plain": [
       "    year period  CUURS23ASAR  CUURS23ASAH  CUURS12BSAA  CUURS12BSAM  \\\n",
       "0   2022    M09      124.488      296.184   114.018659   601.131674   \n",
       "1   2022    M08      123.405      295.010   112.289000   599.558000   \n",
       "2   2022    M07      120.838      293.135   110.585580   597.988446   \n",
       "3   2022    M06      120.646      291.346   108.908000   596.423000   \n",
       "4   2022    M05      120.756      286.126   108.674750   594.469300   \n",
       "..   ...    ...          ...          ...          ...          ...   \n",
       "64  2017    M05      111.163      241.575   111.730695   508.752941   \n",
       "65  2017    M04      113.185      240.022   113.182000   507.716000   \n",
       "66  2017    M03      113.501      239.698   113.759527   508.060383   \n",
       "67  2017    M02      111.345      240.382   114.340000   508.405000   \n",
       "68  2017    M01      107.772      240.097   114.923435   508.749851   \n",
       "\n",
       "    CUURS49DSEFV  CUURS49DSAF11  CUURS12BSAR  CUUR0100SAS4  CUUR0000SA0  \n",
       "0     398.914799        315.815   130.500528       330.030      296.808  \n",
       "1     391.714000        317.676   131.309000       322.957      296.171  \n",
       "2     384.643182        317.686   132.122480       322.235      296.276  \n",
       "3     377.700000        311.685   132.941000       327.757      296.311  \n",
       "4     374.938404        310.451   132.083233       313.308      292.296  \n",
       "..           ...            ...          ...           ...          ...  \n",
       "64    296.533420        249.725   122.971472       288.119      244.733  \n",
       "65    296.316000        248.565   123.055000       286.502      244.524  \n",
       "66    295.408109        249.135   123.673446       284.340      243.801  \n",
       "67    294.503000        247.070   124.295000       284.875      243.603  \n",
       "68    293.600664        242.755   124.919678       280.931      242.839  \n",
       "\n",
       "[69 rows x 11 columns]"
      ]
     },
     "execution_count": 59,
     "metadata": {},
     "output_type": "execute_result"
    }
   ],
   "source": [
    "# final table\n",
    "myData"
   ]
  },
  {
   "cell_type": "code",
   "execution_count": 60,
   "id": "2ba26a1d",
   "metadata": {},
   "outputs": [],
   "source": [
    "# Computing our CPI\n",
    "myData[\"myCPI\"] = 0.22*myData['CUURS23ASAR'] + 0.17*myData['CUURS23ASAH'] + 0.16*myData['CUURS12BSAA'] + 0.04*myData['CUURS12BSAM'] + 0.11*myData['CUURS49DSEFV'] + 0.09*myData['CUURS49DSAF11'] + 0.13*myData['CUURS12BSAR'] + 0.08*myData['CUUR0100SAS4']"
   ]
  },
  {
   "cell_type": "code",
   "execution_count": 61,
   "id": "b39b7608",
   "metadata": {},
   "outputs": [
    {
     "data": {
      "text/html": [
       "<div>\n",
       "<style scoped>\n",
       "    .dataframe tbody tr th:only-of-type {\n",
       "        vertical-align: middle;\n",
       "    }\n",
       "\n",
       "    .dataframe tbody tr th {\n",
       "        vertical-align: top;\n",
       "    }\n",
       "\n",
       "    .dataframe thead th {\n",
       "        text-align: right;\n",
       "    }\n",
       "</style>\n",
       "<table border=\"1\" class=\"dataframe\">\n",
       "  <thead>\n",
       "    <tr style=\"text-align: right;\">\n",
       "      <th></th>\n",
       "      <th>year</th>\n",
       "      <th>period</th>\n",
       "      <th>CUURS23ASAR</th>\n",
       "      <th>CUURS23ASAH</th>\n",
       "      <th>CUURS12BSAA</th>\n",
       "      <th>CUURS12BSAM</th>\n",
       "      <th>CUURS49DSEFV</th>\n",
       "      <th>CUURS49DSAF11</th>\n",
       "      <th>CUURS12BSAR</th>\n",
       "      <th>CUUR0100SAS4</th>\n",
       "      <th>CUUR0000SA0</th>\n",
       "      <th>myCPI</th>\n",
       "    </tr>\n",
       "  </thead>\n",
       "  <tbody>\n",
       "    <tr>\n",
       "      <th>0</th>\n",
       "      <td>2022</td>\n",
       "      <td>M09</td>\n",
       "      <td>124.488</td>\n",
       "      <td>296.184</td>\n",
       "      <td>114.018659</td>\n",
       "      <td>601.131674</td>\n",
       "      <td>398.914799</td>\n",
       "      <td>315.815</td>\n",
       "      <td>130.500528</td>\n",
       "      <td>330.030</td>\n",
       "      <td>296.808</td>\n",
       "      <td>235.698339</td>\n",
       "    </tr>\n",
       "    <tr>\n",
       "      <th>1</th>\n",
       "      <td>2022</td>\n",
       "      <td>M08</td>\n",
       "      <td>123.405</td>\n",
       "      <td>295.010</td>\n",
       "      <td>112.289000</td>\n",
       "      <td>599.558000</td>\n",
       "      <td>391.714000</td>\n",
       "      <td>317.676</td>\n",
       "      <td>131.309000</td>\n",
       "      <td>322.957</td>\n",
       "      <td>296.171</td>\n",
       "      <td>233.835470</td>\n",
       "    </tr>\n",
       "    <tr>\n",
       "      <th>2</th>\n",
       "      <td>2022</td>\n",
       "      <td>M07</td>\n",
       "      <td>120.838</td>\n",
       "      <td>293.135</td>\n",
       "      <td>110.585580</td>\n",
       "      <td>597.988446</td>\n",
       "      <td>384.643182</td>\n",
       "      <td>317.686</td>\n",
       "      <td>132.122480</td>\n",
       "      <td>322.235</td>\n",
       "      <td>296.276</td>\n",
       "      <td>231.887753</td>\n",
       "    </tr>\n",
       "    <tr>\n",
       "      <th>3</th>\n",
       "      <td>2022</td>\n",
       "      <td>M06</td>\n",
       "      <td>120.646</td>\n",
       "      <td>291.346</td>\n",
       "      <td>108.908000</td>\n",
       "      <td>596.423000</td>\n",
       "      <td>377.700000</td>\n",
       "      <td>311.685</td>\n",
       "      <td>132.941000</td>\n",
       "      <td>327.757</td>\n",
       "      <td>296.311</td>\n",
       "      <td>230.454680</td>\n",
       "    </tr>\n",
       "    <tr>\n",
       "      <th>4</th>\n",
       "      <td>2022</td>\n",
       "      <td>M05</td>\n",
       "      <td>120.756</td>\n",
       "      <td>286.126</td>\n",
       "      <td>108.674750</td>\n",
       "      <td>594.469300</td>\n",
       "      <td>374.938404</td>\n",
       "      <td>310.451</td>\n",
       "      <td>132.083233</td>\n",
       "      <td>313.308</td>\n",
       "      <td>292.296</td>\n",
       "      <td>227.793747</td>\n",
       "    </tr>\n",
       "    <tr>\n",
       "      <th>...</th>\n",
       "      <td>...</td>\n",
       "      <td>...</td>\n",
       "      <td>...</td>\n",
       "      <td>...</td>\n",
       "      <td>...</td>\n",
       "      <td>...</td>\n",
       "      <td>...</td>\n",
       "      <td>...</td>\n",
       "      <td>...</td>\n",
       "      <td>...</td>\n",
       "      <td>...</td>\n",
       "      <td>...</td>\n",
       "    </tr>\n",
       "    <tr>\n",
       "      <th>64</th>\n",
       "      <td>2017</td>\n",
       "      <td>M05</td>\n",
       "      <td>111.163</td>\n",
       "      <td>241.575</td>\n",
       "      <td>111.730695</td>\n",
       "      <td>508.752941</td>\n",
       "      <td>296.533420</td>\n",
       "      <td>249.725</td>\n",
       "      <td>122.971472</td>\n",
       "      <td>288.119</td>\n",
       "      <td>244.733</td>\n",
       "      <td>197.880376</td>\n",
       "    </tr>\n",
       "    <tr>\n",
       "      <th>65</th>\n",
       "      <td>2017</td>\n",
       "      <td>M04</td>\n",
       "      <td>113.185</td>\n",
       "      <td>240.022</td>\n",
       "      <td>113.182000</td>\n",
       "      <td>507.716000</td>\n",
       "      <td>296.316000</td>\n",
       "      <td>248.565</td>\n",
       "      <td>123.055000</td>\n",
       "      <td>286.502</td>\n",
       "      <td>244.524</td>\n",
       "      <td>198.005120</td>\n",
       "    </tr>\n",
       "    <tr>\n",
       "      <th>66</th>\n",
       "      <td>2017</td>\n",
       "      <td>M03</td>\n",
       "      <td>113.501</td>\n",
       "      <td>239.698</td>\n",
       "      <td>113.759527</td>\n",
       "      <td>508.060383</td>\n",
       "      <td>295.408109</td>\n",
       "      <td>249.135</td>\n",
       "      <td>123.673446</td>\n",
       "      <td>284.340</td>\n",
       "      <td>243.801</td>\n",
       "      <td>197.984610</td>\n",
       "    </tr>\n",
       "    <tr>\n",
       "      <th>67</th>\n",
       "      <td>2017</td>\n",
       "      <td>M02</td>\n",
       "      <td>111.345</td>\n",
       "      <td>240.382</td>\n",
       "      <td>114.340000</td>\n",
       "      <td>508.405000</td>\n",
       "      <td>294.503000</td>\n",
       "      <td>247.070</td>\n",
       "      <td>124.295000</td>\n",
       "      <td>284.875</td>\n",
       "      <td>243.603</td>\n",
       "      <td>197.571420</td>\n",
       "    </tr>\n",
       "    <tr>\n",
       "      <th>68</th>\n",
       "      <td>2017</td>\n",
       "      <td>M01</td>\n",
       "      <td>107.772</td>\n",
       "      <td>240.097</td>\n",
       "      <td>114.923435</td>\n",
       "      <td>508.749851</td>\n",
       "      <td>293.600664</td>\n",
       "      <td>242.755</td>\n",
       "      <td>124.919678</td>\n",
       "      <td>280.931</td>\n",
       "      <td>242.839</td>\n",
       "      <td>196.122135</td>\n",
       "    </tr>\n",
       "  </tbody>\n",
       "</table>\n",
       "<p>69 rows × 12 columns</p>\n",
       "</div>"
      ],
      "text/plain": [
       "    year period  CUURS23ASAR  CUURS23ASAH  CUURS12BSAA  CUURS12BSAM  \\\n",
       "0   2022    M09      124.488      296.184   114.018659   601.131674   \n",
       "1   2022    M08      123.405      295.010   112.289000   599.558000   \n",
       "2   2022    M07      120.838      293.135   110.585580   597.988446   \n",
       "3   2022    M06      120.646      291.346   108.908000   596.423000   \n",
       "4   2022    M05      120.756      286.126   108.674750   594.469300   \n",
       "..   ...    ...          ...          ...          ...          ...   \n",
       "64  2017    M05      111.163      241.575   111.730695   508.752941   \n",
       "65  2017    M04      113.185      240.022   113.182000   507.716000   \n",
       "66  2017    M03      113.501      239.698   113.759527   508.060383   \n",
       "67  2017    M02      111.345      240.382   114.340000   508.405000   \n",
       "68  2017    M01      107.772      240.097   114.923435   508.749851   \n",
       "\n",
       "    CUURS49DSEFV  CUURS49DSAF11  CUURS12BSAR  CUUR0100SAS4  CUUR0000SA0  \\\n",
       "0     398.914799        315.815   130.500528       330.030      296.808   \n",
       "1     391.714000        317.676   131.309000       322.957      296.171   \n",
       "2     384.643182        317.686   132.122480       322.235      296.276   \n",
       "3     377.700000        311.685   132.941000       327.757      296.311   \n",
       "4     374.938404        310.451   132.083233       313.308      292.296   \n",
       "..           ...            ...          ...           ...          ...   \n",
       "64    296.533420        249.725   122.971472       288.119      244.733   \n",
       "65    296.316000        248.565   123.055000       286.502      244.524   \n",
       "66    295.408109        249.135   123.673446       284.340      243.801   \n",
       "67    294.503000        247.070   124.295000       284.875      243.603   \n",
       "68    293.600664        242.755   124.919678       280.931      242.839   \n",
       "\n",
       "         myCPI  \n",
       "0   235.698339  \n",
       "1   233.835470  \n",
       "2   231.887753  \n",
       "3   230.454680  \n",
       "4   227.793747  \n",
       "..         ...  \n",
       "64  197.880376  \n",
       "65  198.005120  \n",
       "66  197.984610  \n",
       "67  197.571420  \n",
       "68  196.122135  \n",
       "\n",
       "[69 rows x 12 columns]"
      ]
     },
     "execution_count": 61,
     "metadata": {},
     "output_type": "execute_result"
    }
   ],
   "source": [
    "# final table with myCPI calculated\n",
    "myData"
   ]
  },
  {
   "cell_type": "markdown",
   "id": "57ee89c0",
   "metadata": {},
   "source": [
    "## 5. Inflation\n",
    "Compute the 12-month inflation for several lags based on your CPI and compare it with inflation based on the general CPI. Compare and discuss the results.\n"
   ]
  },
  {
   "cell_type": "code",
   "execution_count": 62,
   "id": "761c2353",
   "metadata": {},
   "outputs": [
    {
     "data": {
      "text/plain": [
       "0     235.698339\n",
       "1     233.835470\n",
       "2     231.887753\n",
       "3     230.454680\n",
       "4     227.793747\n",
       "         ...    \n",
       "64    197.880376\n",
       "65    198.005120\n",
       "66    197.984610\n",
       "67    197.571420\n",
       "68    196.122135\n",
       "Name: myCPI, Length: 69, dtype: float64"
      ]
     },
     "execution_count": 62,
     "metadata": {},
     "output_type": "execute_result"
    }
   ],
   "source": [
    "myData['myCPI']"
   ]
  },
  {
   "cell_type": "code",
   "execution_count": 63,
   "id": "652b7c36",
   "metadata": {},
   "outputs": [],
   "source": [
    "nrows, cols = myData.shape"
   ]
  },
  {
   "cell_type": "code",
   "execution_count": 64,
   "id": "844a2bb3",
   "metadata": {},
   "outputs": [],
   "source": [
    "mycpi = df[\"myCPI\"]"
   ]
  },
  {
   "cell_type": "code",
   "execution_count": 65,
   "id": "50c50f22",
   "metadata": {},
   "outputs": [],
   "source": [
    "# calculating inflation for our CPI\n",
    "def myinflation(lag):\n",
    "    # This function computes the percent change in the level of myCPI (inflation) for the \n",
    "    # 12 months starting '12+lag' months ago and ending 'lag' months ago.\n",
    "    # lag is an integer input\n",
    "    \n",
    "    new = mycpi[lag]\n",
    "    old = mycpi[12+lag]\n",
    "    \n",
    "    change = (new/old - 1)*100\n",
    "    \n",
    "    return change"
   ]
  },
  {
   "cell_type": "code",
   "execution_count": 66,
   "id": "7def7bc5",
   "metadata": {},
   "outputs": [
    {
     "name": "stdout",
     "output_type": "stream",
     "text": [
      "there are 57 months in our inflation data\n"
     ]
    }
   ],
   "source": [
    "# create variable for number of months that will change as more data gets added to BLS database\n",
    "obs = nrows - 12 \n",
    "print(f\"there are {obs} months in our inflation data\")"
   ]
  },
  {
   "cell_type": "code",
   "execution_count": 67,
   "id": "a396be90",
   "metadata": {},
   "outputs": [],
   "source": [
    "myInflation = list(map(myinflation,range(obs)))\n",
    "myInflation.reverse()"
   ]
  },
  {
   "cell_type": "code",
   "execution_count": 68,
   "id": "52a25c28",
   "metadata": {},
   "outputs": [],
   "source": [
    "# reverse lags so most recent months are last\n",
    "lags = list(range(obs))\n",
    "lags.reverse()\n",
    "lags = list(map(str,lags))"
   ]
  },
  {
   "cell_type": "code",
   "execution_count": 69,
   "id": "6c950028",
   "metadata": {},
   "outputs": [],
   "source": [
    "#lags"
   ]
  },
  {
   "cell_type": "code",
   "execution_count": 70,
   "id": "c76ded9d",
   "metadata": {},
   "outputs": [],
   "source": [
    "\n",
    "#inflation3 = []\n",
    "#for i in range(nrows-1):\n",
    "    \n",
    "    #x = myData.myCPI.iloc[i] / myData.myCPI.iloc[i+1]\n",
    "    #inflation3.append((x-1)*100)\n"
   ]
  },
  {
   "cell_type": "code",
   "execution_count": 71,
   "id": "5ffd5fe1",
   "metadata": {},
   "outputs": [],
   "source": [
    "#inflation3"
   ]
  },
  {
   "cell_type": "code",
   "execution_count": 72,
   "id": "8c967da1",
   "metadata": {},
   "outputs": [],
   "source": [
    "#len(inflation3)"
   ]
  },
  {
   "cell_type": "code",
   "execution_count": 73,
   "id": "6d8db13e",
   "metadata": {},
   "outputs": [],
   "source": [
    "b4 = ['CUUR0000SA0']"
   ]
  },
  {
   "cell_type": "code",
   "execution_count": 74,
   "id": "3c76edfe",
   "metadata": {},
   "outputs": [
    {
     "name": "stdout",
     "output_type": "stream",
     "text": [
      "Series  CUUR0000SA0  exists\n"
     ]
    }
   ],
   "source": [
    "result4 = Series(b4,key)"
   ]
  },
  {
   "cell_type": "code",
   "execution_count": 75,
   "id": "aac415f7",
   "metadata": {},
   "outputs": [],
   "source": [
    "# now calculate inflation for general CPI\n",
    "def inflation2(lag):\n",
    "    # This function computes the percent change in the level of prices (inflation) for the \n",
    "    # 12 months starting '12+lag' months ago and ending 'lag' months ago.\n",
    "    # lag is an integer input\n",
    "    \n",
    "    new = float(result4['Results']['series'][0]['data'][lag]['value'])\n",
    "    old = float(result4['Results']['series'][0]['data'][12+lag]['value'])\n",
    "    \n",
    "    change = (new/old - 1)*100\n",
    "    print('Inflation in the period starting ', lag, 'months ago and ending', 12+lag, 'months ago was ',round(change,1),'%')\n",
    "    return change"
   ]
  },
  {
   "cell_type": "code",
   "execution_count": 76,
   "id": "d5b3bc39",
   "metadata": {},
   "outputs": [
    {
     "name": "stdout",
     "output_type": "stream",
     "text": [
      "Inflation in the period starting  0 months ago and ending 12 months ago was  8.2 %\n",
      "Inflation in the period starting  1 months ago and ending 13 months ago was  8.3 %\n",
      "Inflation in the period starting  2 months ago and ending 14 months ago was  8.5 %\n",
      "Inflation in the period starting  3 months ago and ending 15 months ago was  9.1 %\n",
      "Inflation in the period starting  4 months ago and ending 16 months ago was  8.6 %\n",
      "Inflation in the period starting  5 months ago and ending 17 months ago was  8.3 %\n",
      "Inflation in the period starting  6 months ago and ending 18 months ago was  8.5 %\n",
      "Inflation in the period starting  7 months ago and ending 19 months ago was  7.9 %\n",
      "Inflation in the period starting  8 months ago and ending 20 months ago was  7.5 %\n",
      "Inflation in the period starting  9 months ago and ending 21 months ago was  7.0 %\n",
      "Inflation in the period starting  10 months ago and ending 22 months ago was  6.8 %\n",
      "Inflation in the period starting  11 months ago and ending 23 months ago was  6.2 %\n",
      "Inflation in the period starting  12 months ago and ending 24 months ago was  5.4 %\n",
      "Inflation in the period starting  13 months ago and ending 25 months ago was  5.3 %\n",
      "Inflation in the period starting  14 months ago and ending 26 months ago was  5.4 %\n",
      "Inflation in the period starting  15 months ago and ending 27 months ago was  5.4 %\n",
      "Inflation in the period starting  16 months ago and ending 28 months ago was  5.0 %\n",
      "Inflation in the period starting  17 months ago and ending 29 months ago was  4.2 %\n",
      "Inflation in the period starting  18 months ago and ending 30 months ago was  2.6 %\n",
      "Inflation in the period starting  19 months ago and ending 31 months ago was  1.7 %\n",
      "Inflation in the period starting  20 months ago and ending 32 months ago was  1.4 %\n",
      "Inflation in the period starting  21 months ago and ending 33 months ago was  1.4 %\n",
      "Inflation in the period starting  22 months ago and ending 34 months ago was  1.2 %\n",
      "Inflation in the period starting  23 months ago and ending 35 months ago was  1.2 %\n",
      "Inflation in the period starting  24 months ago and ending 36 months ago was  1.4 %\n",
      "Inflation in the period starting  25 months ago and ending 37 months ago was  1.3 %\n",
      "Inflation in the period starting  26 months ago and ending 38 months ago was  1.0 %\n",
      "Inflation in the period starting  27 months ago and ending 39 months ago was  0.6 %\n",
      "Inflation in the period starting  28 months ago and ending 40 months ago was  0.1 %\n",
      "Inflation in the period starting  29 months ago and ending 41 months ago was  0.3 %\n",
      "Inflation in the period starting  30 months ago and ending 42 months ago was  1.5 %\n",
      "Inflation in the period starting  31 months ago and ending 43 months ago was  2.3 %\n",
      "Inflation in the period starting  32 months ago and ending 44 months ago was  2.5 %\n",
      "Inflation in the period starting  33 months ago and ending 45 months ago was  2.3 %\n",
      "Inflation in the period starting  34 months ago and ending 46 months ago was  2.1 %\n",
      "Inflation in the period starting  35 months ago and ending 47 months ago was  1.8 %\n",
      "Inflation in the period starting  36 months ago and ending 48 months ago was  1.7 %\n",
      "Inflation in the period starting  37 months ago and ending 49 months ago was  1.7 %\n",
      "Inflation in the period starting  38 months ago and ending 50 months ago was  1.8 %\n",
      "Inflation in the period starting  39 months ago and ending 51 months ago was  1.6 %\n",
      "Inflation in the period starting  40 months ago and ending 52 months ago was  1.8 %\n",
      "Inflation in the period starting  41 months ago and ending 53 months ago was  2.0 %\n",
      "Inflation in the period starting  42 months ago and ending 54 months ago was  1.9 %\n",
      "Inflation in the period starting  43 months ago and ending 55 months ago was  1.5 %\n",
      "Inflation in the period starting  44 months ago and ending 56 months ago was  1.6 %\n",
      "Inflation in the period starting  45 months ago and ending 57 months ago was  1.9 %\n",
      "Inflation in the period starting  46 months ago and ending 58 months ago was  2.2 %\n",
      "Inflation in the period starting  47 months ago and ending 59 months ago was  2.5 %\n",
      "Inflation in the period starting  48 months ago and ending 60 months ago was  2.3 %\n",
      "Inflation in the period starting  49 months ago and ending 61 months ago was  2.7 %\n",
      "Inflation in the period starting  50 months ago and ending 62 months ago was  2.9 %\n",
      "Inflation in the period starting  51 months ago and ending 63 months ago was  2.9 %\n",
      "Inflation in the period starting  52 months ago and ending 64 months ago was  2.8 %\n",
      "Inflation in the period starting  53 months ago and ending 65 months ago was  2.5 %\n",
      "Inflation in the period starting  54 months ago and ending 66 months ago was  2.4 %\n",
      "Inflation in the period starting  55 months ago and ending 67 months ago was  2.2 %\n",
      "Inflation in the period starting  56 months ago and ending 68 months ago was  2.1 %\n"
     ]
    }
   ],
   "source": [
    "lags =[]\n",
    "changes = []\n",
    "for i in range(obs):\n",
    "    lags.append(i)\n",
    "    changes.append(inflation2(i))\n"
   ]
  },
  {
   "cell_type": "code",
   "execution_count": 77,
   "id": "ee37c577",
   "metadata": {},
   "outputs": [],
   "source": [
    "#lags"
   ]
  },
  {
   "cell_type": "code",
   "execution_count": 78,
   "id": "0a53e68e",
   "metadata": {},
   "outputs": [],
   "source": [
    "#changes"
   ]
  },
  {
   "cell_type": "code",
   "execution_count": 79,
   "id": "881f3be8",
   "metadata": {},
   "outputs": [],
   "source": [
    "def int2str(i):\n",
    "    return str(i)\n",
    "\n",
    "mlags = map(int2str,lags)"
   ]
  },
  {
   "cell_type": "code",
   "execution_count": 80,
   "id": "5936abb7",
   "metadata": {},
   "outputs": [
    {
     "data": {
      "text/plain": [
       "<map at 0x7f7ec7c4d340>"
      ]
     },
     "execution_count": 80,
     "metadata": {},
     "output_type": "execute_result"
    }
   ],
   "source": [
    "mlags"
   ]
  },
  {
   "cell_type": "code",
   "execution_count": 81,
   "id": "dd758420",
   "metadata": {},
   "outputs": [],
   "source": [
    "slags = list(mlags)"
   ]
  },
  {
   "cell_type": "code",
   "execution_count": 82,
   "id": "51256c83",
   "metadata": {},
   "outputs": [],
   "source": [
    "slags.reverse()"
   ]
  },
  {
   "cell_type": "code",
   "execution_count": 83,
   "id": "446e6041",
   "metadata": {},
   "outputs": [],
   "source": [
    "#slags"
   ]
  },
  {
   "cell_type": "code",
   "execution_count": 84,
   "id": "524b5576",
   "metadata": {},
   "outputs": [],
   "source": [
    "changes.reverse()"
   ]
  },
  {
   "cell_type": "markdown",
   "id": "419ae033",
   "metadata": {},
   "source": [
    "## Comparison between our CPI inflation rates and general CPI inflation rates\n",
    "- Our inflation rates are consistently lower than the inflation rates of the general CPI.\n",
    "- This differences can be attributed to the selection of items we chose.\n",
    "- The prices of the items we chose to include in our basket did not change significantly in price over the five year period."
   ]
  },
  {
   "cell_type": "markdown",
   "id": "593d04cd",
   "metadata": {},
   "source": [
    "### Bonus: Put both on one graph and make sure the two lines are clearly labeled as well as the axes."
   ]
  },
  {
   "cell_type": "code",
   "execution_count": 85,
   "id": "120a9ebf",
   "metadata": {},
   "outputs": [],
   "source": [
    "from matplotlib import pyplot as plt"
   ]
  },
  {
   "cell_type": "code",
   "execution_count": 86,
   "id": "3fb30367",
   "metadata": {},
   "outputs": [
    {
     "data": {
      "image/png": "[encoded data removed]",
      "text/plain": [
       "<Figure size 1440x720 with 1 Axes>"
      ]
     },
     "metadata": {
      "needs_background": "light"
     },
     "output_type": "display_data"
    }
   ],
   "source": [
    "plt.figure(figsize = (20,10))\n",
    "\n",
    "plt.plot(slags, changes, color='green', marker='o', linestyle='solid', label= \"general CPI\")\n",
    "plt.plot(lags,myInflation, color='blue', marker='o', linestyle='solid', label = \"my CPI\")\n",
    "plt.title(\"Yearly change in CPI-U\")\n",
    "plt.xlabel(\"lags (months)\")\n",
    "plt.ylabel(\"Inflation\")\n",
    "plt.legend()\n",
    "plt.show()"
   ]
  },
  {
   "cell_type": "code",
   "execution_count": null,
   "id": "51f7f1fd",
   "metadata": {},
   "outputs": [],
   "source": []
  }
 ],
 "metadata": {
  "kernelspec": {
   "display_name": "Python 3 (ipykernel)",
   "language": "python",
   "name": "python3"
  },
  "language_info": {
   "codemirror_mode": {
    "name": "ipython",
    "version": 3
   },
   "file_extension": ".py",
   "mimetype": "text/x-python",
   "name": "python",
   "nbconvert_exporter": "python",
   "pygments_lexer": "ipython3",
   "version": "3.9.12"
  }
 },
 "nbformat": 4,
 "nbformat_minor": 5
}
