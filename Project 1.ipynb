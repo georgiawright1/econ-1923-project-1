{
 "cells": [
  {
   "cell_type": "markdown",
   "id": "1e601bb6",
   "metadata": {},
   "source": [
    "## Econ 1923 - CPI project"
   ]
  },
  {
   "cell_type": "code",
   "execution_count": 1,
   "id": "03005872",
   "metadata": {},
   "outputs": [],
   "source": [
    "import requests\n",
    "import json\n",
    "import pandas as pd"
   ]
  },
  {
   "cell_type": "code",
   "execution_count": 2,
   "id": "62ce1caa",
   "metadata": {},
   "outputs": [
    {
     "name": "stdout",
     "output_type": "stream",
     "text": [
      "API keys loaded\n"
     ]
    }
   ],
   "source": [
    "%run APIkeys.py\n",
    "key = os.environ['BLS_API_key']"
   ]
  },
  {
   "cell_type": "markdown",
   "id": "d21ee7fa",
   "metadata": {},
   "source": [
    "### 2.1 Items and Weights\n",
    "Your basket must include at least 8 ingredients.\n",
    "https://download.bls.gov/pub/time.series/cu/cu.item"
   ]
  },
  {
   "cell_type": "markdown",
   "id": "e749ec61",
   "metadata": {},
   "source": [
    "Student expenses\n",
    "- SEEB01\tCollege tuition and fees; weight: 0.4\n",
    "- SERF01\tClub membership for shopping clubs, fraternal, or other organizations, or participant sports fees; weight: 0.01\n",
    "- SSEA011\tCollege textbooks; weight: 0.02\n",
    "- SEFP01\tCoffee; weight: 0.01\n",
    "- SAA\t    Apparel; weight: 0.1\n",
    "- SS62032\tAdmission to sports; weight: 0.06\n",
    "- SEFV\t    Food away from home; weight: 0.15\n",
    "- SEFT02\tFrozen food; weight: 0.25\n",
    "\n",
    "\n",
    "- SAR     Recreation; 0.4\n",
    "- SAS4    Transportation services; 0.25\n",
    "- SAA     Apparel; 0.02\n",
    "- SAM     Medical care; 0.01\n",
    "- SEFV    food away from home; 0.15\n",
    "- SAF11   food at home; 0.1\n",
    "- SAF114  beverages; 0.01\n",
    "- SERC02  sports equipment; 0.06\n",
    "\n"
   ]
  },
  {
   "cell_type": "markdown",
   "id": "a5f6b483",
   "metadata": {},
   "source": [
    "### 2.2 Locations and weights\n",
    "The locations where these prices are measured. List at least three locations (cities/areas) based on where the team members either live now, lived in the past, or want to live in the future.2 Choose weights for these locations according to your liking."
   ]
  },
  {
   "cell_type": "markdown",
   "id": "2b6b4c4c",
   "metadata": {},
   "source": [
    "- S12B    Philadelphia, PA; weight: 0.5\n",
    "- S23A\t  Chicago, IL; weight: 0.3\n",
    "- S49D    Seattle, WA; weight: 0.2"
   ]
  },
  {
   "cell_type": "markdown",
   "id": "935b932a",
   "metadata": {},
   "source": [
    "### 2.3 Finalizing the basket\n",
    "Combining the choices of items and locations, find all the series names. assign a weight for each series that combines the weights that you chose for the items and the weights you chose for the locations."
   ]
  },
  {
   "cell_type": "markdown",
   "id": "5ad8a3ab",
   "metadata": {},
   "source": [
    "\n",
    "- CUURS23ASAR;       Recreation in Chicago; weight **0.23**\n",
    "- CUUR0200SAS4;      Public transportation in Midwest; weight **0.18**\n",
    "- CUURS12BSAA;       Apparel in the Northeast; weight **0.17**\n",
    "- CUUR0100SAM;       Medicine NE; weight **0.05**\n",
    "- CUURS49DSEFV       Food away in NE; weight **0.11**\n",
    "- CUURS49DSAF111;      Food home in Seattle; weight **0.10**\n",
    "- CUURS49DSAF114;    Non-alcoholic beverages in Seattle; weight **0.07**\n",
    "- CUUR0000SERC02;    Sports equipment US; weight **0.09**\n",
    "\n",
    "\n",
    "\n",
    "Finalized basket:\n",
    "- CUURS23ASAR;       Recreation in Chicago; weight **0.22**\n",
    "- CUUR0200SAS4;      Public transportation in Midwest; weight **0.17**\n",
    "- CUURS12BSAA;       Apparel in the Northeast; weight **0.16**\n",
    "- CUUR0100SAM;       Medicine NE; weight **0.04**\n",
    "- CUURS49DSEFV       Food away in NE; weight **0.11**\n",
    "- CUURS49DSAF111;    Food home in Seattle; weight **0.09**\n",
    "- CUURS23ASAR;       Recreation in Philadelphia; weight **0.13**\n",
    "- CUUR0000SERC02;    Sports equipment US; weight **0.08**"
   ]
  },
  {
   "cell_type": "code",
   "execution_count": null,
   "id": "08f9e50e",
   "metadata": {},
   "outputs": [],
   "source": []
  },
  {
   "cell_type": "markdown",
   "id": "92d300bc",
   "metadata": {},
   "source": [
    "## 3. Downloading the data \n",
    "### 3.1 Refine the basket\n",
    "First, verify that the series you created in the previous section exist in the BLS’ API. If some items do not exist, take them out and re-weight. If a certain location produces all the missing series, replace that location with a bigger or more general location.3\n",
    "After you made all the changes and adjustments, state the final basket and the weights for each item in the basket. Table format will be great here."
   ]
  },
  {
   "cell_type": "code",
   "execution_count": 3,
   "id": "0ac59353",
   "metadata": {},
   "outputs": [],
   "source": [
    "def Series(varList,myKey):\n",
    "    base_url = 'https://api.bls.gov/publicAPI/v2/timeseries/data/'  #this will not change\n",
    "    headers = {'Content-type': 'application/json'}  #This will not changed !\n",
    "\n",
    "    parameters = {\n",
    "        \"seriesid\":varList,\n",
    "        \"startyear\":\"2012\", \n",
    "        \"endyear\":\"2022\",\n",
    "        \"catalog\":True, \n",
    "        \"calculations\":False, \n",
    "        \"annualaverage\":False,\n",
    "        \"aspects\":False,\n",
    "        \"registrationkey\": myKey \n",
    "     }\n",
    "\n",
    "    data = json.dumps(parameters) #this converts the Python dictionary into a JSON format\n",
    "    \n",
    "    p = requests.post(base_url, data=data, headers=headers)\n",
    "    json_data = json.loads(p.text)\n",
    "    \n",
    "    return json_data"
   ]
  },
  {
   "cell_type": "code",
   "execution_count": 4,
   "id": "453deee5",
   "metadata": {},
   "outputs": [],
   "source": [
    "# what items exist for philly: beverages, food away, food at home, apparel\n",
    "basket2 = ['CUURS12BSAF114', 'CUURS12BSERF01','CUURS12BSSEA011', 'CUURS12BSEFP01', 'CUURS12BSAA', \n",
    "          'CUURS12BSS62032', 'CUURS12BSEFV', 'CUURS12BSAF11']"
   ]
  },
  {
   "cell_type": "code",
   "execution_count": 5,
   "id": "f4e498b9",
   "metadata": {},
   "outputs": [],
   "source": [
    "# what items exist for North East: beverages, food away, food at home, apparel\n",
    "basket3  = ['CUUR0100SAF114', 'CUUR0100SERF01','CUUR0100SSEA011', 'CUUR0100SEFP01', 'CUUR0100SAA', \n",
    "          'CUUR0100SS62032', 'CUUR0100SEFV', 'CUUR0100SAF11']"
   ]
  },
  {
   "cell_type": "code",
   "execution_count": 6,
   "id": "4d3ae682",
   "metadata": {},
   "outputs": [],
   "source": [
    "# what items exist for Chicago: beverages, food away, food at home, apparel\n",
    "basket4 = ['CUURS23ASAF114', 'CUURS23ASERF01','CUURS23ASSEA011', 'CUURS23ASEFP01', 'CUURS23ASAA', \n",
    "          'CUURS23ASS62032', 'CUURS23ASEFV', 'CUURS23ASAF11']"
   ]
  },
  {
   "cell_type": "code",
   "execution_count": 7,
   "id": "3a8618ae",
   "metadata": {},
   "outputs": [],
   "source": [
    "# what other items exist for Chicago: recreation\n",
    "basket5 = ['CUURS23ASAR', 'CUURS23ASAS4','CUURS23ASEEE01', 'CUURS23ASEGC01', 'CUURS23ASEGD03', \n",
    "          'CUURS23ASERC02', 'CUURS23ASERG02', 'CUURS23ASETG', 'CUURS23ASSEE041', 'CUURS23ASS62032']"
   ]
  },
  {
   "cell_type": "code",
   "execution_count": 8,
   "id": "1a9efd36",
   "metadata": {},
   "outputs": [],
   "source": [
    "# what other items exist for midwest: recreation, transportation services\n",
    "basket6 = ['CUUR0200SAR', 'CUUR0200SAS4','CUUR0200SEEE01', 'CUUR0200SEGC01', 'CUUR0200SEGD03', \n",
    "          'CUUR0200SERC02', 'CUUR0200SERG02', 'CUUR0200SETG', 'CUUR0200SSEE041', 'CUUR0200SS62032']"
   ]
  },
  {
   "cell_type": "code",
   "execution_count": 9,
   "id": "a87b6c68",
   "metadata": {},
   "outputs": [],
   "source": [
    "# what items exist for Seattle: beverages, food away, food at home, apparel\n",
    "basket7  = ['CUURS49DSAF114', 'CUURS49DSERF01','CUURS49DSSEA011', 'CUURS49DSEFP01', 'CUURS49DSAA', \n",
    "          'CUURS49DSS62032', 'CUURS49DSEFV', 'CUURS49DSAF11']"
   ]
  },
  {
   "cell_type": "code",
   "execution_count": 10,
   "id": "43da5c26",
   "metadata": {},
   "outputs": [],
   "source": [
    "# this chunk contains finalized basket\n",
    "# recreation chicago, transportation services MW, apparel NE, medical care NE, food away seattle,\n",
    "# food at home seattle, recreation philadelphia, sports equipment, total CPI\n",
    "basket = ['CUURS23ASAR', 'CUUR0200SAS4', 'CUURS12BSAA', 'CUUR0100SAM', 'CUURS49DSEFV', 'CUURS49DSAF11', \n",
    "          'CUURS12BSAR', 'CUUR0000SERC02', 'CUUR0000SA0']"
   ]
  },
  {
   "cell_type": "code",
   "execution_count": 11,
   "id": "f63f4587",
   "metadata": {},
   "outputs": [],
   "source": [
    "result = Series(basket,key)"
   ]
  },
  {
   "cell_type": "code",
   "execution_count": 12,
   "id": "20f8b3af",
   "metadata": {},
   "outputs": [],
   "source": [
    "#result['Results']['series']"
   ]
  },
  {
   "cell_type": "code",
   "execution_count": 13,
   "id": "f70de93b",
   "metadata": {},
   "outputs": [],
   "source": [
    "def Series2(varList,myKey):\n",
    "    base_url = 'https://api.bls.gov/publicAPI/v2/timeseries/data/'  #this will not change\n",
    "    headers = {'Content-type': 'application/json'}  #This will not changed !\n",
    "\n",
    "    parameters = {\n",
    "        \"seriesid\":varList,\n",
    "        \"startyear\":\"2012\", \n",
    "        \"endyear\":\"2022\",\n",
    "        \"catalog\":True, \n",
    "        \"calculations\":False, \n",
    "        \"annualaverage\":False,\n",
    "        \"aspects\":False,\n",
    "        \"registrationkey\": myKey \n",
    "     }\n",
    "\n",
    "    data = json.dumps(parameters) #this converts the Python dictionary into a JSON format\n",
    "    \n",
    "    p = requests.post(base_url, data=data, headers=headers)\n",
    "    json_data = json.loads(p.text)\n",
    "    \n",
    "    n = len(varList) #number of series requested\n",
    "    \n",
    "    for i in range(n):\n",
    "        if json_data['Results']['series'][i]['data'] == []:\n",
    "            print('Series ',varList[i],' does not exist')\n",
    "        else:\n",
    "            print('Series ',varList[i],' exists')\n",
    "    \n",
    "    return json_data"
   ]
  },
  {
   "cell_type": "code",
   "execution_count": 14,
   "id": "a49a0a15",
   "metadata": {},
   "outputs": [
    {
     "name": "stdout",
     "output_type": "stream",
     "text": [
      "Series  CUURS23ASAR  exists\n",
      "Series  CUUR0200SAS4  exists\n",
      "Series  CUURS12BSAA  exists\n",
      "Series  CUUR0100SAM  exists\n",
      "Series  CUURS49DSEFV  exists\n",
      "Series  CUURS49DSAF11  exists\n",
      "Series  CUURS12BSAR  exists\n",
      "Series  CUUR0000SERC02  exists\n",
      "Series  CUUR0000SA0  exists\n"
     ]
    }
   ],
   "source": [
    "result2 = Series2(basket,key)"
   ]
  },
  {
   "cell_type": "markdown",
   "id": "b841decb",
   "metadata": {},
   "source": [
    "### 3.2 Downloading\n",
    "Make an API call to download the data for the basket you created. I ask that you have data for the last 5 years: January 2017 to January 2022. Make sure your API call retrieves data for this range.\n",
    "Include the general CPI (CUUR0000SA0) in your API call.\n",
    "Question: Are all the series you downloaded in a monthly frequency? If not, how can you fix that (i.e. interpolate)."
   ]
  },
  {
   "cell_type": "code",
   "execution_count": 15,
   "id": "11b1f8f3",
   "metadata": {},
   "outputs": [],
   "source": [
    "def Series3(varList,myKey):\n",
    "    base_url = 'https://api.bls.gov/publicAPI/v2/timeseries/data/'  #this will not change\n",
    "    headers = {'Content-type': 'application/json'}  #This will not changed !\n",
    "\n",
    "    parameters = {\n",
    "        \"seriesid\":varList,\n",
    "        \"startyear\":\"2017\", \n",
    "        \"endyear\":\"2022\",\n",
    "        \"catalog\":True, \n",
    "        \"calculations\":False, \n",
    "        \"annualaverage\":False,\n",
    "        \"aspects\":False,\n",
    "        \"registrationkey\": myKey \n",
    "     }\n",
    "\n",
    "    data = json.dumps(parameters) #this converts the Python dictionary into a JSON format\n",
    "    \n",
    "    p = requests.post(base_url, data=data, headers=headers)\n",
    "    json_data = json.loads(p.text)\n",
    "    \n",
    "    n = len(varList) #number of series requested\n",
    "    \n",
    "    for i in range(n):\n",
    "        if json_data['Results']['series'][i]['data'] == []:\n",
    "            print('Series ',varList[i],' does not exist')\n",
    "        else:\n",
    "            print('Series ',varList[i],' exists')\n",
    "    \n",
    "    return json_data"
   ]
  },
  {
   "cell_type": "code",
   "execution_count": 16,
   "id": "abe9555a",
   "metadata": {},
   "outputs": [
    {
     "name": "stdout",
     "output_type": "stream",
     "text": [
      "Series  CUURS23ASAR  exists\n",
      "Series  CUUR0200SAS4  exists\n",
      "Series  CUURS12BSAA  exists\n",
      "Series  CUUR0100SAM  exists\n",
      "Series  CUURS49DSEFV  exists\n",
      "Series  CUURS49DSAF11  exists\n",
      "Series  CUURS12BSAR  exists\n",
      "Series  CUUR0000SERC02  exists\n",
      "Series  CUUR0000SA0  exists\n"
     ]
    }
   ],
   "source": [
    "result3 = Series3(basket,key)"
   ]
  },
  {
   "cell_type": "code",
   "execution_count": 17,
   "id": "90dcd7f8",
   "metadata": {},
   "outputs": [],
   "source": [
    "def Series4(varList,myKey):\n",
    "    # Input: varList = a list of strings containing the series names\n",
    "    # Input: myKey =  a string containing your BLS API key\n",
    "    # Output: new_df = a data frame containing the data collected\n",
    "    \n",
    "    base_url = 'https://api.bls.gov/publicAPI/v2/timeseries/data/'  \n",
    "    headers = {'Content-type': 'application/json'}  \n",
    "\n",
    "    parameters = {\n",
    "        \"seriesid\":varList,\n",
    "        \"startyear\":\"2017\", \n",
    "        \"endyear\":\"2022\",\n",
    "        \"catalog\":True, \n",
    "        \"calculations\":False, \n",
    "        \"annualaverage\":False,\n",
    "        \"aspects\":False,\n",
    "        \"registrationkey\": myKey \n",
    "     }\n",
    "\n",
    "    data = json.dumps(parameters) # converts the Python dictionary into a JSON format\n",
    "    \n",
    "    p = requests.post(base_url, data=data, headers=headers)\n",
    "    json_data = json.loads(p.text)\n",
    "    \n",
    "    n = len(varList) #number of series requested\n",
    "    \n",
    "    new_df = pd.DataFrame(columns=['year', 'period'])\n",
    "    for item in range(n):\n",
    "        l = len(json_data['Results']['series'][item]['data']) #length of the list\n",
    "        if l == 0:\n",
    "            print('Series ',varList[item],' does not exist')\n",
    "        else:\n",
    "            \n",
    "            print('Series ',varList[item],' exists with ',l,' observations')\n",
    "            d = json_data['Results']['series'][item]['data']\n",
    "            current_df = pd.DataFrame(data=d)\n",
    "            current_df = current_df[['year','period','value']].astype({'value': 'float64'})\n",
    "            current_df = current_df.rename(columns = {'value':varList[item]}) \n",
    "            \n",
    "            new_df = new_df.merge(current_df, on = ['year','period'],how='outer')\n",
    "    \n",
    "    return new_df\n"
   ]
  },
  {
   "cell_type": "code",
   "execution_count": 18,
   "id": "40568f24",
   "metadata": {},
   "outputs": [
    {
     "name": "stdout",
     "output_type": "stream",
     "text": [
      "Series  CUURS23ASAR  exists with  68  observations\n",
      "Series  CUUR0200SAS4  exists with  68  observations\n",
      "Series  CUURS12BSAA  exists with  34  observations\n",
      "Series  CUUR0100SAM  exists with  68  observations\n",
      "Series  CUURS49DSEFV  exists with  34  observations\n",
      "Series  CUURS49DSAF11  exists with  68  observations\n",
      "Series  CUURS12BSAR  exists with  34  observations\n",
      "Series  CUUR0000SERC02  exists with  68  observations\n",
      "Series  CUUR0000SA0  exists with  68  observations\n"
     ]
    }
   ],
   "source": [
    "myBasket = ['CUURS23ASAR', 'CUUR0200SAS4', 'CUURS12BSAA', 'CUUR0100SAM', 'CUURS49DSEFV', 'CUURS49DSAF11', \n",
    "          'CUURS12BSAR', 'CUUR0000SERC02', 'CUUR0000SA0']\n",
    "myData = Series4(myBasket,key)"
   ]
  },
  {
   "cell_type": "code",
   "execution_count": 19,
   "id": "5a520e04",
   "metadata": {},
   "outputs": [
    {
     "data": {
      "text/html": [
       "<div>\n",
       "<style scoped>\n",
       "    .dataframe tbody tr th:only-of-type {\n",
       "        vertical-align: middle;\n",
       "    }\n",
       "\n",
       "    .dataframe tbody tr th {\n",
       "        vertical-align: top;\n",
       "    }\n",
       "\n",
       "    .dataframe thead th {\n",
       "        text-align: right;\n",
       "    }\n",
       "</style>\n",
       "<table border=\"1\" class=\"dataframe\">\n",
       "  <thead>\n",
       "    <tr style=\"text-align: right;\">\n",
       "      <th></th>\n",
       "      <th>year</th>\n",
       "      <th>period</th>\n",
       "      <th>CUURS23ASAR</th>\n",
       "      <th>CUUR0200SAS4</th>\n",
       "      <th>CUURS12BSAA</th>\n",
       "      <th>CUUR0100SAM</th>\n",
       "      <th>CUURS49DSEFV</th>\n",
       "      <th>CUURS49DSAF11</th>\n",
       "      <th>CUURS12BSAR</th>\n",
       "      <th>CUUR0000SERC02</th>\n",
       "      <th>CUUR0000SA0</th>\n",
       "    </tr>\n",
       "  </thead>\n",
       "  <tbody>\n",
       "    <tr>\n",
       "      <th>0</th>\n",
       "      <td>2022</td>\n",
       "      <td>M08</td>\n",
       "      <td>123.405</td>\n",
       "      <td>348.590</td>\n",
       "      <td>112.289</td>\n",
       "      <td>580.669</td>\n",
       "      <td>391.714</td>\n",
       "      <td>317.676</td>\n",
       "      <td>131.309</td>\n",
       "      <td>87.153</td>\n",
       "      <td>296.171</td>\n",
       "    </tr>\n",
       "    <tr>\n",
       "      <th>1</th>\n",
       "      <td>2022</td>\n",
       "      <td>M07</td>\n",
       "      <td>120.838</td>\n",
       "      <td>348.248</td>\n",
       "      <td>NaN</td>\n",
       "      <td>576.156</td>\n",
       "      <td>NaN</td>\n",
       "      <td>317.686</td>\n",
       "      <td>NaN</td>\n",
       "      <td>86.546</td>\n",
       "      <td>296.276</td>\n",
       "    </tr>\n",
       "    <tr>\n",
       "      <th>2</th>\n",
       "      <td>2022</td>\n",
       "      <td>M06</td>\n",
       "      <td>120.646</td>\n",
       "      <td>353.242</td>\n",
       "      <td>108.908</td>\n",
       "      <td>573.145</td>\n",
       "      <td>377.700</td>\n",
       "      <td>311.685</td>\n",
       "      <td>132.941</td>\n",
       "      <td>87.473</td>\n",
       "      <td>296.311</td>\n",
       "    </tr>\n",
       "    <tr>\n",
       "      <th>3</th>\n",
       "      <td>2022</td>\n",
       "      <td>M05</td>\n",
       "      <td>120.756</td>\n",
       "      <td>352.820</td>\n",
       "      <td>NaN</td>\n",
       "      <td>568.877</td>\n",
       "      <td>NaN</td>\n",
       "      <td>310.451</td>\n",
       "      <td>NaN</td>\n",
       "      <td>87.348</td>\n",
       "      <td>292.296</td>\n",
       "    </tr>\n",
       "    <tr>\n",
       "      <th>4</th>\n",
       "      <td>2022</td>\n",
       "      <td>M04</td>\n",
       "      <td>120.529</td>\n",
       "      <td>340.863</td>\n",
       "      <td>108.442</td>\n",
       "      <td>568.472</td>\n",
       "      <td>372.197</td>\n",
       "      <td>306.625</td>\n",
       "      <td>131.231</td>\n",
       "      <td>87.491</td>\n",
       "      <td>289.109</td>\n",
       "    </tr>\n",
       "    <tr>\n",
       "      <th>...</th>\n",
       "      <td>...</td>\n",
       "      <td>...</td>\n",
       "      <td>...</td>\n",
       "      <td>...</td>\n",
       "      <td>...</td>\n",
       "      <td>...</td>\n",
       "      <td>...</td>\n",
       "      <td>...</td>\n",
       "      <td>...</td>\n",
       "      <td>...</td>\n",
       "      <td>...</td>\n",
       "    </tr>\n",
       "    <tr>\n",
       "      <th>63</th>\n",
       "      <td>2017</td>\n",
       "      <td>M05</td>\n",
       "      <td>111.163</td>\n",
       "      <td>308.659</td>\n",
       "      <td>NaN</td>\n",
       "      <td>491.976</td>\n",
       "      <td>NaN</td>\n",
       "      <td>249.725</td>\n",
       "      <td>NaN</td>\n",
       "      <td>81.440</td>\n",
       "      <td>244.733</td>\n",
       "    </tr>\n",
       "    <tr>\n",
       "      <th>64</th>\n",
       "      <td>2017</td>\n",
       "      <td>M04</td>\n",
       "      <td>113.185</td>\n",
       "      <td>307.524</td>\n",
       "      <td>113.182</td>\n",
       "      <td>491.537</td>\n",
       "      <td>296.316</td>\n",
       "      <td>248.565</td>\n",
       "      <td>123.055</td>\n",
       "      <td>82.046</td>\n",
       "      <td>244.524</td>\n",
       "    </tr>\n",
       "    <tr>\n",
       "      <th>65</th>\n",
       "      <td>2017</td>\n",
       "      <td>M03</td>\n",
       "      <td>113.501</td>\n",
       "      <td>304.921</td>\n",
       "      <td>NaN</td>\n",
       "      <td>493.595</td>\n",
       "      <td>NaN</td>\n",
       "      <td>249.135</td>\n",
       "      <td>NaN</td>\n",
       "      <td>81.941</td>\n",
       "      <td>243.801</td>\n",
       "    </tr>\n",
       "    <tr>\n",
       "      <th>66</th>\n",
       "      <td>2017</td>\n",
       "      <td>M02</td>\n",
       "      <td>111.345</td>\n",
       "      <td>303.383</td>\n",
       "      <td>114.340</td>\n",
       "      <td>492.978</td>\n",
       "      <td>294.503</td>\n",
       "      <td>247.070</td>\n",
       "      <td>124.295</td>\n",
       "      <td>82.001</td>\n",
       "      <td>243.603</td>\n",
       "    </tr>\n",
       "    <tr>\n",
       "      <th>67</th>\n",
       "      <td>2017</td>\n",
       "      <td>M01</td>\n",
       "      <td>107.772</td>\n",
       "      <td>302.297</td>\n",
       "      <td>NaN</td>\n",
       "      <td>490.069</td>\n",
       "      <td>NaN</td>\n",
       "      <td>242.755</td>\n",
       "      <td>NaN</td>\n",
       "      <td>81.136</td>\n",
       "      <td>242.839</td>\n",
       "    </tr>\n",
       "  </tbody>\n",
       "</table>\n",
       "<p>68 rows × 11 columns</p>\n",
       "</div>"
      ],
      "text/plain": [
       "    year period  CUURS23ASAR  CUUR0200SAS4  CUURS12BSAA  CUUR0100SAM  \\\n",
       "0   2022    M08      123.405       348.590      112.289      580.669   \n",
       "1   2022    M07      120.838       348.248          NaN      576.156   \n",
       "2   2022    M06      120.646       353.242      108.908      573.145   \n",
       "3   2022    M05      120.756       352.820          NaN      568.877   \n",
       "4   2022    M04      120.529       340.863      108.442      568.472   \n",
       "..   ...    ...          ...           ...          ...          ...   \n",
       "63  2017    M05      111.163       308.659          NaN      491.976   \n",
       "64  2017    M04      113.185       307.524      113.182      491.537   \n",
       "65  2017    M03      113.501       304.921          NaN      493.595   \n",
       "66  2017    M02      111.345       303.383      114.340      492.978   \n",
       "67  2017    M01      107.772       302.297          NaN      490.069   \n",
       "\n",
       "    CUURS49DSEFV  CUURS49DSAF11  CUURS12BSAR  CUUR0000SERC02  CUUR0000SA0  \n",
       "0        391.714        317.676      131.309          87.153      296.171  \n",
       "1            NaN        317.686          NaN          86.546      296.276  \n",
       "2        377.700        311.685      132.941          87.473      296.311  \n",
       "3            NaN        310.451          NaN          87.348      292.296  \n",
       "4        372.197        306.625      131.231          87.491      289.109  \n",
       "..           ...            ...          ...             ...          ...  \n",
       "63           NaN        249.725          NaN          81.440      244.733  \n",
       "64       296.316        248.565      123.055          82.046      244.524  \n",
       "65           NaN        249.135          NaN          81.941      243.801  \n",
       "66       294.503        247.070      124.295          82.001      243.603  \n",
       "67           NaN        242.755          NaN          81.136      242.839  \n",
       "\n",
       "[68 rows x 11 columns]"
      ]
     },
     "execution_count": 19,
     "metadata": {},
     "output_type": "execute_result"
    }
   ],
   "source": [
    "myData #beverages in Seattle (CUURS49DSAF114) NaN in 2017, replaced with recreation in Philadelphia (CUURS12BSAR)\n",
    "# interpolate CUURS12BSAA, CUURS49DSEFV, and CUURS12BSAR"
   ]
  },
  {
   "cell_type": "code",
   "execution_count": 20,
   "id": "af90377f",
   "metadata": {},
   "outputs": [
    {
     "data": {
      "text/plain": [
       "year               object\n",
       "period             object\n",
       "CUURS23ASAR       float64\n",
       "CUUR0200SAS4      float64\n",
       "CUURS12BSAA       float64\n",
       "CUUR0100SAM       float64\n",
       "CUURS49DSEFV      float64\n",
       "CUURS49DSAF11     float64\n",
       "CUURS12BSAR       float64\n",
       "CUUR0000SERC02    float64\n",
       "CUUR0000SA0       float64\n",
       "dtype: object"
      ]
     },
     "execution_count": 20,
     "metadata": {},
     "output_type": "execute_result"
    }
   ],
   "source": [
    "myData.dtypes"
   ]
  },
  {
   "cell_type": "markdown",
   "id": "6289ccbd",
   "metadata": {},
   "source": [
    "### 4. Aggregating\n",
    "Compute your version of the CPI based on the weights in 2.3."
   ]
  },
  {
   "cell_type": "markdown",
   "id": "853871b2",
   "metadata": {},
   "source": [
    "CPI = 0.22(CUURS23ASAR) + 0.17(CUUR0200SAS4) + 0.16(CUURS12BSAA) + 0.04(CUUR0100SAM) + 0.11(CUURS49DSEFV) + 0.09(CUURS49DSAF111) + 0.13(CUURS12BSAR) + 0.08(CUUR0000SERC02)\n"
   ]
  },
  {
   "cell_type": "code",
   "execution_count": 21,
   "id": "349f5803",
   "metadata": {},
   "outputs": [],
   "source": [
    "def bimonthly2monthly(myData, ser):\n",
    "    # This function take a column named ser in the data frame myData and change it from bi monthly to monthly by interpolating the data\n",
    "    # NOTE: This function assumes that myData is sorted from the latest month (position zero) to the oldest month\n",
    "    #  before using this function, it will be safe to run the command:  myData.sort_values(by=['year','period'],inplace=True,ascending=False)\n",
    "    \n",
    "    n = len (myData[ser]) # number of rows\n",
    "\n",
    "    #first ignore the cases where either the first or the last observations are missing\n",
    "    # we start by looping over the indeces from 1 (which is the second place in Python)\n",
    "    # upto (but not including) the last observation ()\n",
    "\n",
    "    for i in range(1,n-1):\n",
    "        if pd.isna(myData[ser].iat[i]): #the value in place i is NaN\n",
    "            myData[ser].iat[i] = math.sqrt(myData[ser].iat[i-1]*myData[ser].iat[i+1]) #replace NaN with a geometric avg of i-1 and i+1\n",
    "\n",
    "        # after the above stage all the middle observations are full. Now we can treat the first and last one\n",
    "\n",
    "    if pd.isna(myData[ser].iat[0]): #the value in the first place is NaN\n",
    "            myData[ser].iat[0] = myData[ser].iat[1]*(myData[ser].iat[1]/myData[ser].iat[2]) #assume the same growth rate from 2 to 1 to be from 1 to 0\n",
    "\n",
    "    if pd.isna(myData[ser].iat[n-1]): #the value in the last place is NaN\n",
    "            myData[ser].iat[n-1] = myData[ser].iat[n-2]*(myData[ser].iat[n-2]/myData[ser].iat[n-3]) #assume the same growth rate from n-2 to n-3 to be n-2 to n-1\n",
    "\n",
    "    return myData\n",
    "  \n",
    "  # Usage (after you created your dataframe using multiSeriesV4() ):\n",
    "\n",
    "  # First, sort the dataframe using:  \n",
    "  #              df.sort_values(by=['year','period'],inplace=True,ascending=False)\n",
    "  # (replace df with the name you used for your data frame)\n",
    "\n",
    "  # Second, use this function:\n",
    "  #              df = bimonthly2monthly(df,'CUURS12BSAR')\n",
    "  # (replace df with the name you used for your data frame and replace 'CUURS12BSAR' with a series name you used)\n",
    "  # The function works on one series on a time (but you could put it in a loop."
   ]
  },
  {
   "cell_type": "code",
   "execution_count": 22,
   "id": "263b9fb3",
   "metadata": {},
   "outputs": [],
   "source": [
    "import math"
   ]
  },
  {
   "cell_type": "code",
   "execution_count": 23,
   "id": "1210886c",
   "metadata": {},
   "outputs": [],
   "source": [
    "# interpolate CUURS12BSAA\n",
    "df = bimonthly2monthly(myData,'CUURS12BSAA')"
   ]
  },
  {
   "cell_type": "code",
   "execution_count": 24,
   "id": "76460315",
   "metadata": {},
   "outputs": [
    {
     "data": {
      "text/html": [
       "<div>\n",
       "<style scoped>\n",
       "    .dataframe tbody tr th:only-of-type {\n",
       "        vertical-align: middle;\n",
       "    }\n",
       "\n",
       "    .dataframe tbody tr th {\n",
       "        vertical-align: top;\n",
       "    }\n",
       "\n",
       "    .dataframe thead th {\n",
       "        text-align: right;\n",
       "    }\n",
       "</style>\n",
       "<table border=\"1\" class=\"dataframe\">\n",
       "  <thead>\n",
       "    <tr style=\"text-align: right;\">\n",
       "      <th></th>\n",
       "      <th>year</th>\n",
       "      <th>period</th>\n",
       "      <th>CUURS23ASAR</th>\n",
       "      <th>CUUR0200SAS4</th>\n",
       "      <th>CUURS12BSAA</th>\n",
       "      <th>CUUR0100SAM</th>\n",
       "      <th>CUURS49DSEFV</th>\n",
       "      <th>CUURS49DSAF11</th>\n",
       "      <th>CUURS12BSAR</th>\n",
       "      <th>CUUR0000SERC02</th>\n",
       "      <th>CUUR0000SA0</th>\n",
       "    </tr>\n",
       "  </thead>\n",
       "  <tbody>\n",
       "    <tr>\n",
       "      <th>0</th>\n",
       "      <td>2022</td>\n",
       "      <td>M08</td>\n",
       "      <td>123.405</td>\n",
       "      <td>348.590</td>\n",
       "      <td>112.289000</td>\n",
       "      <td>580.669</td>\n",
       "      <td>391.714</td>\n",
       "      <td>317.676</td>\n",
       "      <td>131.309</td>\n",
       "      <td>87.153</td>\n",
       "      <td>296.171</td>\n",
       "    </tr>\n",
       "    <tr>\n",
       "      <th>1</th>\n",
       "      <td>2022</td>\n",
       "      <td>M07</td>\n",
       "      <td>120.838</td>\n",
       "      <td>348.248</td>\n",
       "      <td>110.585580</td>\n",
       "      <td>576.156</td>\n",
       "      <td>NaN</td>\n",
       "      <td>317.686</td>\n",
       "      <td>NaN</td>\n",
       "      <td>86.546</td>\n",
       "      <td>296.276</td>\n",
       "    </tr>\n",
       "    <tr>\n",
       "      <th>2</th>\n",
       "      <td>2022</td>\n",
       "      <td>M06</td>\n",
       "      <td>120.646</td>\n",
       "      <td>353.242</td>\n",
       "      <td>108.908000</td>\n",
       "      <td>573.145</td>\n",
       "      <td>377.700</td>\n",
       "      <td>311.685</td>\n",
       "      <td>132.941</td>\n",
       "      <td>87.473</td>\n",
       "      <td>296.311</td>\n",
       "    </tr>\n",
       "    <tr>\n",
       "      <th>3</th>\n",
       "      <td>2022</td>\n",
       "      <td>M05</td>\n",
       "      <td>120.756</td>\n",
       "      <td>352.820</td>\n",
       "      <td>108.674750</td>\n",
       "      <td>568.877</td>\n",
       "      <td>NaN</td>\n",
       "      <td>310.451</td>\n",
       "      <td>NaN</td>\n",
       "      <td>87.348</td>\n",
       "      <td>292.296</td>\n",
       "    </tr>\n",
       "    <tr>\n",
       "      <th>4</th>\n",
       "      <td>2022</td>\n",
       "      <td>M04</td>\n",
       "      <td>120.529</td>\n",
       "      <td>340.863</td>\n",
       "      <td>108.442000</td>\n",
       "      <td>568.472</td>\n",
       "      <td>372.197</td>\n",
       "      <td>306.625</td>\n",
       "      <td>131.231</td>\n",
       "      <td>87.491</td>\n",
       "      <td>289.109</td>\n",
       "    </tr>\n",
       "    <tr>\n",
       "      <th>...</th>\n",
       "      <td>...</td>\n",
       "      <td>...</td>\n",
       "      <td>...</td>\n",
       "      <td>...</td>\n",
       "      <td>...</td>\n",
       "      <td>...</td>\n",
       "      <td>...</td>\n",
       "      <td>...</td>\n",
       "      <td>...</td>\n",
       "      <td>...</td>\n",
       "      <td>...</td>\n",
       "    </tr>\n",
       "    <tr>\n",
       "      <th>63</th>\n",
       "      <td>2017</td>\n",
       "      <td>M05</td>\n",
       "      <td>111.163</td>\n",
       "      <td>308.659</td>\n",
       "      <td>111.730695</td>\n",
       "      <td>491.976</td>\n",
       "      <td>NaN</td>\n",
       "      <td>249.725</td>\n",
       "      <td>NaN</td>\n",
       "      <td>81.440</td>\n",
       "      <td>244.733</td>\n",
       "    </tr>\n",
       "    <tr>\n",
       "      <th>64</th>\n",
       "      <td>2017</td>\n",
       "      <td>M04</td>\n",
       "      <td>113.185</td>\n",
       "      <td>307.524</td>\n",
       "      <td>113.182000</td>\n",
       "      <td>491.537</td>\n",
       "      <td>296.316</td>\n",
       "      <td>248.565</td>\n",
       "      <td>123.055</td>\n",
       "      <td>82.046</td>\n",
       "      <td>244.524</td>\n",
       "    </tr>\n",
       "    <tr>\n",
       "      <th>65</th>\n",
       "      <td>2017</td>\n",
       "      <td>M03</td>\n",
       "      <td>113.501</td>\n",
       "      <td>304.921</td>\n",
       "      <td>113.759527</td>\n",
       "      <td>493.595</td>\n",
       "      <td>NaN</td>\n",
       "      <td>249.135</td>\n",
       "      <td>NaN</td>\n",
       "      <td>81.941</td>\n",
       "      <td>243.801</td>\n",
       "    </tr>\n",
       "    <tr>\n",
       "      <th>66</th>\n",
       "      <td>2017</td>\n",
       "      <td>M02</td>\n",
       "      <td>111.345</td>\n",
       "      <td>303.383</td>\n",
       "      <td>114.340000</td>\n",
       "      <td>492.978</td>\n",
       "      <td>294.503</td>\n",
       "      <td>247.070</td>\n",
       "      <td>124.295</td>\n",
       "      <td>82.001</td>\n",
       "      <td>243.603</td>\n",
       "    </tr>\n",
       "    <tr>\n",
       "      <th>67</th>\n",
       "      <td>2017</td>\n",
       "      <td>M01</td>\n",
       "      <td>107.772</td>\n",
       "      <td>302.297</td>\n",
       "      <td>114.923435</td>\n",
       "      <td>490.069</td>\n",
       "      <td>NaN</td>\n",
       "      <td>242.755</td>\n",
       "      <td>NaN</td>\n",
       "      <td>81.136</td>\n",
       "      <td>242.839</td>\n",
       "    </tr>\n",
       "  </tbody>\n",
       "</table>\n",
       "<p>68 rows × 11 columns</p>\n",
       "</div>"
      ],
      "text/plain": [
       "    year period  CUURS23ASAR  CUUR0200SAS4  CUURS12BSAA  CUUR0100SAM  \\\n",
       "0   2022    M08      123.405       348.590   112.289000      580.669   \n",
       "1   2022    M07      120.838       348.248   110.585580      576.156   \n",
       "2   2022    M06      120.646       353.242   108.908000      573.145   \n",
       "3   2022    M05      120.756       352.820   108.674750      568.877   \n",
       "4   2022    M04      120.529       340.863   108.442000      568.472   \n",
       "..   ...    ...          ...           ...          ...          ...   \n",
       "63  2017    M05      111.163       308.659   111.730695      491.976   \n",
       "64  2017    M04      113.185       307.524   113.182000      491.537   \n",
       "65  2017    M03      113.501       304.921   113.759527      493.595   \n",
       "66  2017    M02      111.345       303.383   114.340000      492.978   \n",
       "67  2017    M01      107.772       302.297   114.923435      490.069   \n",
       "\n",
       "    CUURS49DSEFV  CUURS49DSAF11  CUURS12BSAR  CUUR0000SERC02  CUUR0000SA0  \n",
       "0        391.714        317.676      131.309          87.153      296.171  \n",
       "1            NaN        317.686          NaN          86.546      296.276  \n",
       "2        377.700        311.685      132.941          87.473      296.311  \n",
       "3            NaN        310.451          NaN          87.348      292.296  \n",
       "4        372.197        306.625      131.231          87.491      289.109  \n",
       "..           ...            ...          ...             ...          ...  \n",
       "63           NaN        249.725          NaN          81.440      244.733  \n",
       "64       296.316        248.565      123.055          82.046      244.524  \n",
       "65           NaN        249.135          NaN          81.941      243.801  \n",
       "66       294.503        247.070      124.295          82.001      243.603  \n",
       "67           NaN        242.755          NaN          81.136      242.839  \n",
       "\n",
       "[68 rows x 11 columns]"
      ]
     },
     "execution_count": 24,
     "metadata": {},
     "output_type": "execute_result"
    }
   ],
   "source": [
    "myData"
   ]
  },
  {
   "cell_type": "code",
   "execution_count": 25,
   "id": "51f7253b",
   "metadata": {},
   "outputs": [],
   "source": [
    "# interpolate CUURS49DSEFV\n",
    "df2 = bimonthly2monthly(myData,'CUURS49DSEFV')"
   ]
  },
  {
   "cell_type": "code",
   "execution_count": 26,
   "id": "46a54d2a",
   "metadata": {},
   "outputs": [
    {
     "data": {
      "text/html": [
       "<div>\n",
       "<style scoped>\n",
       "    .dataframe tbody tr th:only-of-type {\n",
       "        vertical-align: middle;\n",
       "    }\n",
       "\n",
       "    .dataframe tbody tr th {\n",
       "        vertical-align: top;\n",
       "    }\n",
       "\n",
       "    .dataframe thead th {\n",
       "        text-align: right;\n",
       "    }\n",
       "</style>\n",
       "<table border=\"1\" class=\"dataframe\">\n",
       "  <thead>\n",
       "    <tr style=\"text-align: right;\">\n",
       "      <th></th>\n",
       "      <th>year</th>\n",
       "      <th>period</th>\n",
       "      <th>CUURS23ASAR</th>\n",
       "      <th>CUUR0200SAS4</th>\n",
       "      <th>CUURS12BSAA</th>\n",
       "      <th>CUUR0100SAM</th>\n",
       "      <th>CUURS49DSEFV</th>\n",
       "      <th>CUURS49DSAF11</th>\n",
       "      <th>CUURS12BSAR</th>\n",
       "      <th>CUUR0000SERC02</th>\n",
       "      <th>CUUR0000SA0</th>\n",
       "    </tr>\n",
       "  </thead>\n",
       "  <tbody>\n",
       "    <tr>\n",
       "      <th>0</th>\n",
       "      <td>2022</td>\n",
       "      <td>M08</td>\n",
       "      <td>123.405</td>\n",
       "      <td>348.590</td>\n",
       "      <td>112.289000</td>\n",
       "      <td>580.669</td>\n",
       "      <td>391.714000</td>\n",
       "      <td>317.676</td>\n",
       "      <td>131.309</td>\n",
       "      <td>87.153</td>\n",
       "      <td>296.171</td>\n",
       "    </tr>\n",
       "    <tr>\n",
       "      <th>1</th>\n",
       "      <td>2022</td>\n",
       "      <td>M07</td>\n",
       "      <td>120.838</td>\n",
       "      <td>348.248</td>\n",
       "      <td>110.585580</td>\n",
       "      <td>576.156</td>\n",
       "      <td>384.643182</td>\n",
       "      <td>317.686</td>\n",
       "      <td>NaN</td>\n",
       "      <td>86.546</td>\n",
       "      <td>296.276</td>\n",
       "    </tr>\n",
       "    <tr>\n",
       "      <th>2</th>\n",
       "      <td>2022</td>\n",
       "      <td>M06</td>\n",
       "      <td>120.646</td>\n",
       "      <td>353.242</td>\n",
       "      <td>108.908000</td>\n",
       "      <td>573.145</td>\n",
       "      <td>377.700000</td>\n",
       "      <td>311.685</td>\n",
       "      <td>132.941</td>\n",
       "      <td>87.473</td>\n",
       "      <td>296.311</td>\n",
       "    </tr>\n",
       "    <tr>\n",
       "      <th>3</th>\n",
       "      <td>2022</td>\n",
       "      <td>M05</td>\n",
       "      <td>120.756</td>\n",
       "      <td>352.820</td>\n",
       "      <td>108.674750</td>\n",
       "      <td>568.877</td>\n",
       "      <td>374.938404</td>\n",
       "      <td>310.451</td>\n",
       "      <td>NaN</td>\n",
       "      <td>87.348</td>\n",
       "      <td>292.296</td>\n",
       "    </tr>\n",
       "    <tr>\n",
       "      <th>4</th>\n",
       "      <td>2022</td>\n",
       "      <td>M04</td>\n",
       "      <td>120.529</td>\n",
       "      <td>340.863</td>\n",
       "      <td>108.442000</td>\n",
       "      <td>568.472</td>\n",
       "      <td>372.197000</td>\n",
       "      <td>306.625</td>\n",
       "      <td>131.231</td>\n",
       "      <td>87.491</td>\n",
       "      <td>289.109</td>\n",
       "    </tr>\n",
       "    <tr>\n",
       "      <th>...</th>\n",
       "      <td>...</td>\n",
       "      <td>...</td>\n",
       "      <td>...</td>\n",
       "      <td>...</td>\n",
       "      <td>...</td>\n",
       "      <td>...</td>\n",
       "      <td>...</td>\n",
       "      <td>...</td>\n",
       "      <td>...</td>\n",
       "      <td>...</td>\n",
       "      <td>...</td>\n",
       "    </tr>\n",
       "    <tr>\n",
       "      <th>63</th>\n",
       "      <td>2017</td>\n",
       "      <td>M05</td>\n",
       "      <td>111.163</td>\n",
       "      <td>308.659</td>\n",
       "      <td>111.730695</td>\n",
       "      <td>491.976</td>\n",
       "      <td>296.533420</td>\n",
       "      <td>249.725</td>\n",
       "      <td>NaN</td>\n",
       "      <td>81.440</td>\n",
       "      <td>244.733</td>\n",
       "    </tr>\n",
       "    <tr>\n",
       "      <th>64</th>\n",
       "      <td>2017</td>\n",
       "      <td>M04</td>\n",
       "      <td>113.185</td>\n",
       "      <td>307.524</td>\n",
       "      <td>113.182000</td>\n",
       "      <td>491.537</td>\n",
       "      <td>296.316000</td>\n",
       "      <td>248.565</td>\n",
       "      <td>123.055</td>\n",
       "      <td>82.046</td>\n",
       "      <td>244.524</td>\n",
       "    </tr>\n",
       "    <tr>\n",
       "      <th>65</th>\n",
       "      <td>2017</td>\n",
       "      <td>M03</td>\n",
       "      <td>113.501</td>\n",
       "      <td>304.921</td>\n",
       "      <td>113.759527</td>\n",
       "      <td>493.595</td>\n",
       "      <td>295.408109</td>\n",
       "      <td>249.135</td>\n",
       "      <td>NaN</td>\n",
       "      <td>81.941</td>\n",
       "      <td>243.801</td>\n",
       "    </tr>\n",
       "    <tr>\n",
       "      <th>66</th>\n",
       "      <td>2017</td>\n",
       "      <td>M02</td>\n",
       "      <td>111.345</td>\n",
       "      <td>303.383</td>\n",
       "      <td>114.340000</td>\n",
       "      <td>492.978</td>\n",
       "      <td>294.503000</td>\n",
       "      <td>247.070</td>\n",
       "      <td>124.295</td>\n",
       "      <td>82.001</td>\n",
       "      <td>243.603</td>\n",
       "    </tr>\n",
       "    <tr>\n",
       "      <th>67</th>\n",
       "      <td>2017</td>\n",
       "      <td>M01</td>\n",
       "      <td>107.772</td>\n",
       "      <td>302.297</td>\n",
       "      <td>114.923435</td>\n",
       "      <td>490.069</td>\n",
       "      <td>293.600664</td>\n",
       "      <td>242.755</td>\n",
       "      <td>NaN</td>\n",
       "      <td>81.136</td>\n",
       "      <td>242.839</td>\n",
       "    </tr>\n",
       "  </tbody>\n",
       "</table>\n",
       "<p>68 rows × 11 columns</p>\n",
       "</div>"
      ],
      "text/plain": [
       "    year period  CUURS23ASAR  CUUR0200SAS4  CUURS12BSAA  CUUR0100SAM  \\\n",
       "0   2022    M08      123.405       348.590   112.289000      580.669   \n",
       "1   2022    M07      120.838       348.248   110.585580      576.156   \n",
       "2   2022    M06      120.646       353.242   108.908000      573.145   \n",
       "3   2022    M05      120.756       352.820   108.674750      568.877   \n",
       "4   2022    M04      120.529       340.863   108.442000      568.472   \n",
       "..   ...    ...          ...           ...          ...          ...   \n",
       "63  2017    M05      111.163       308.659   111.730695      491.976   \n",
       "64  2017    M04      113.185       307.524   113.182000      491.537   \n",
       "65  2017    M03      113.501       304.921   113.759527      493.595   \n",
       "66  2017    M02      111.345       303.383   114.340000      492.978   \n",
       "67  2017    M01      107.772       302.297   114.923435      490.069   \n",
       "\n",
       "    CUURS49DSEFV  CUURS49DSAF11  CUURS12BSAR  CUUR0000SERC02  CUUR0000SA0  \n",
       "0     391.714000        317.676      131.309          87.153      296.171  \n",
       "1     384.643182        317.686          NaN          86.546      296.276  \n",
       "2     377.700000        311.685      132.941          87.473      296.311  \n",
       "3     374.938404        310.451          NaN          87.348      292.296  \n",
       "4     372.197000        306.625      131.231          87.491      289.109  \n",
       "..           ...            ...          ...             ...          ...  \n",
       "63    296.533420        249.725          NaN          81.440      244.733  \n",
       "64    296.316000        248.565      123.055          82.046      244.524  \n",
       "65    295.408109        249.135          NaN          81.941      243.801  \n",
       "66    294.503000        247.070      124.295          82.001      243.603  \n",
       "67    293.600664        242.755          NaN          81.136      242.839  \n",
       "\n",
       "[68 rows x 11 columns]"
      ]
     },
     "execution_count": 26,
     "metadata": {},
     "output_type": "execute_result"
    }
   ],
   "source": [
    "myData"
   ]
  },
  {
   "cell_type": "code",
   "execution_count": 27,
   "id": "994ed6ef",
   "metadata": {},
   "outputs": [],
   "source": [
    "# interpolate CUURS12BSAR\n",
    "df3 = bimonthly2monthly(myData,'CUURS12BSAR')"
   ]
  },
  {
   "cell_type": "code",
   "execution_count": 28,
   "id": "c3cf1013",
   "metadata": {},
   "outputs": [
    {
     "data": {
      "text/html": [
       "<div>\n",
       "<style scoped>\n",
       "    .dataframe tbody tr th:only-of-type {\n",
       "        vertical-align: middle;\n",
       "    }\n",
       "\n",
       "    .dataframe tbody tr th {\n",
       "        vertical-align: top;\n",
       "    }\n",
       "\n",
       "    .dataframe thead th {\n",
       "        text-align: right;\n",
       "    }\n",
       "</style>\n",
       "<table border=\"1\" class=\"dataframe\">\n",
       "  <thead>\n",
       "    <tr style=\"text-align: right;\">\n",
       "      <th></th>\n",
       "      <th>year</th>\n",
       "      <th>period</th>\n",
       "      <th>CUURS23ASAR</th>\n",
       "      <th>CUUR0200SAS4</th>\n",
       "      <th>CUURS12BSAA</th>\n",
       "      <th>CUUR0100SAM</th>\n",
       "      <th>CUURS49DSEFV</th>\n",
       "      <th>CUURS49DSAF11</th>\n",
       "      <th>CUURS12BSAR</th>\n",
       "      <th>CUUR0000SERC02</th>\n",
       "      <th>CUUR0000SA0</th>\n",
       "    </tr>\n",
       "  </thead>\n",
       "  <tbody>\n",
       "    <tr>\n",
       "      <th>0</th>\n",
       "      <td>2022</td>\n",
       "      <td>M08</td>\n",
       "      <td>123.405</td>\n",
       "      <td>348.590</td>\n",
       "      <td>112.289000</td>\n",
       "      <td>580.669</td>\n",
       "      <td>391.714000</td>\n",
       "      <td>317.676</td>\n",
       "      <td>131.309000</td>\n",
       "      <td>87.153</td>\n",
       "      <td>296.171</td>\n",
       "    </tr>\n",
       "    <tr>\n",
       "      <th>1</th>\n",
       "      <td>2022</td>\n",
       "      <td>M07</td>\n",
       "      <td>120.838</td>\n",
       "      <td>348.248</td>\n",
       "      <td>110.585580</td>\n",
       "      <td>576.156</td>\n",
       "      <td>384.643182</td>\n",
       "      <td>317.686</td>\n",
       "      <td>132.122480</td>\n",
       "      <td>86.546</td>\n",
       "      <td>296.276</td>\n",
       "    </tr>\n",
       "    <tr>\n",
       "      <th>2</th>\n",
       "      <td>2022</td>\n",
       "      <td>M06</td>\n",
       "      <td>120.646</td>\n",
       "      <td>353.242</td>\n",
       "      <td>108.908000</td>\n",
       "      <td>573.145</td>\n",
       "      <td>377.700000</td>\n",
       "      <td>311.685</td>\n",
       "      <td>132.941000</td>\n",
       "      <td>87.473</td>\n",
       "      <td>296.311</td>\n",
       "    </tr>\n",
       "    <tr>\n",
       "      <th>3</th>\n",
       "      <td>2022</td>\n",
       "      <td>M05</td>\n",
       "      <td>120.756</td>\n",
       "      <td>352.820</td>\n",
       "      <td>108.674750</td>\n",
       "      <td>568.877</td>\n",
       "      <td>374.938404</td>\n",
       "      <td>310.451</td>\n",
       "      <td>132.083233</td>\n",
       "      <td>87.348</td>\n",
       "      <td>292.296</td>\n",
       "    </tr>\n",
       "    <tr>\n",
       "      <th>4</th>\n",
       "      <td>2022</td>\n",
       "      <td>M04</td>\n",
       "      <td>120.529</td>\n",
       "      <td>340.863</td>\n",
       "      <td>108.442000</td>\n",
       "      <td>568.472</td>\n",
       "      <td>372.197000</td>\n",
       "      <td>306.625</td>\n",
       "      <td>131.231000</td>\n",
       "      <td>87.491</td>\n",
       "      <td>289.109</td>\n",
       "    </tr>\n",
       "    <tr>\n",
       "      <th>...</th>\n",
       "      <td>...</td>\n",
       "      <td>...</td>\n",
       "      <td>...</td>\n",
       "      <td>...</td>\n",
       "      <td>...</td>\n",
       "      <td>...</td>\n",
       "      <td>...</td>\n",
       "      <td>...</td>\n",
       "      <td>...</td>\n",
       "      <td>...</td>\n",
       "      <td>...</td>\n",
       "    </tr>\n",
       "    <tr>\n",
       "      <th>63</th>\n",
       "      <td>2017</td>\n",
       "      <td>M05</td>\n",
       "      <td>111.163</td>\n",
       "      <td>308.659</td>\n",
       "      <td>111.730695</td>\n",
       "      <td>491.976</td>\n",
       "      <td>296.533420</td>\n",
       "      <td>249.725</td>\n",
       "      <td>122.971472</td>\n",
       "      <td>81.440</td>\n",
       "      <td>244.733</td>\n",
       "    </tr>\n",
       "    <tr>\n",
       "      <th>64</th>\n",
       "      <td>2017</td>\n",
       "      <td>M04</td>\n",
       "      <td>113.185</td>\n",
       "      <td>307.524</td>\n",
       "      <td>113.182000</td>\n",
       "      <td>491.537</td>\n",
       "      <td>296.316000</td>\n",
       "      <td>248.565</td>\n",
       "      <td>123.055000</td>\n",
       "      <td>82.046</td>\n",
       "      <td>244.524</td>\n",
       "    </tr>\n",
       "    <tr>\n",
       "      <th>65</th>\n",
       "      <td>2017</td>\n",
       "      <td>M03</td>\n",
       "      <td>113.501</td>\n",
       "      <td>304.921</td>\n",
       "      <td>113.759527</td>\n",
       "      <td>493.595</td>\n",
       "      <td>295.408109</td>\n",
       "      <td>249.135</td>\n",
       "      <td>123.673446</td>\n",
       "      <td>81.941</td>\n",
       "      <td>243.801</td>\n",
       "    </tr>\n",
       "    <tr>\n",
       "      <th>66</th>\n",
       "      <td>2017</td>\n",
       "      <td>M02</td>\n",
       "      <td>111.345</td>\n",
       "      <td>303.383</td>\n",
       "      <td>114.340000</td>\n",
       "      <td>492.978</td>\n",
       "      <td>294.503000</td>\n",
       "      <td>247.070</td>\n",
       "      <td>124.295000</td>\n",
       "      <td>82.001</td>\n",
       "      <td>243.603</td>\n",
       "    </tr>\n",
       "    <tr>\n",
       "      <th>67</th>\n",
       "      <td>2017</td>\n",
       "      <td>M01</td>\n",
       "      <td>107.772</td>\n",
       "      <td>302.297</td>\n",
       "      <td>114.923435</td>\n",
       "      <td>490.069</td>\n",
       "      <td>293.600664</td>\n",
       "      <td>242.755</td>\n",
       "      <td>124.919678</td>\n",
       "      <td>81.136</td>\n",
       "      <td>242.839</td>\n",
       "    </tr>\n",
       "  </tbody>\n",
       "</table>\n",
       "<p>68 rows × 11 columns</p>\n",
       "</div>"
      ],
      "text/plain": [
       "    year period  CUURS23ASAR  CUUR0200SAS4  CUURS12BSAA  CUUR0100SAM  \\\n",
       "0   2022    M08      123.405       348.590   112.289000      580.669   \n",
       "1   2022    M07      120.838       348.248   110.585580      576.156   \n",
       "2   2022    M06      120.646       353.242   108.908000      573.145   \n",
       "3   2022    M05      120.756       352.820   108.674750      568.877   \n",
       "4   2022    M04      120.529       340.863   108.442000      568.472   \n",
       "..   ...    ...          ...           ...          ...          ...   \n",
       "63  2017    M05      111.163       308.659   111.730695      491.976   \n",
       "64  2017    M04      113.185       307.524   113.182000      491.537   \n",
       "65  2017    M03      113.501       304.921   113.759527      493.595   \n",
       "66  2017    M02      111.345       303.383   114.340000      492.978   \n",
       "67  2017    M01      107.772       302.297   114.923435      490.069   \n",
       "\n",
       "    CUURS49DSEFV  CUURS49DSAF11  CUURS12BSAR  CUUR0000SERC02  CUUR0000SA0  \n",
       "0     391.714000        317.676   131.309000          87.153      296.171  \n",
       "1     384.643182        317.686   132.122480          86.546      296.276  \n",
       "2     377.700000        311.685   132.941000          87.473      296.311  \n",
       "3     374.938404        310.451   132.083233          87.348      292.296  \n",
       "4     372.197000        306.625   131.231000          87.491      289.109  \n",
       "..           ...            ...          ...             ...          ...  \n",
       "63    296.533420        249.725   122.971472          81.440      244.733  \n",
       "64    296.316000        248.565   123.055000          82.046      244.524  \n",
       "65    295.408109        249.135   123.673446          81.941      243.801  \n",
       "66    294.503000        247.070   124.295000          82.001      243.603  \n",
       "67    293.600664        242.755   124.919678          81.136      242.839  \n",
       "\n",
       "[68 rows x 11 columns]"
      ]
     },
     "execution_count": 28,
     "metadata": {},
     "output_type": "execute_result"
    }
   ],
   "source": [
    "myData"
   ]
  },
  {
   "cell_type": "code",
   "execution_count": 29,
   "id": "2ba26a1d",
   "metadata": {},
   "outputs": [],
   "source": [
    "myData[\"myCPI\"] = 0.22*myData['CUURS23ASAR'] + 0.17*myData['CUUR0200SAS4'] + 0.16*myData['CUURS12BSAA'] + 0.04*myData['CUUR0100SAM'] + 0.11*myData['CUURS49DSEFV'] + 0.09*myData['CUURS49DSAF11'] + 0.13*myData['CUURS12BSAR'] + 0.08*myData['CUUR0000SERC02']\n"
   ]
  },
  {
   "cell_type": "code",
   "execution_count": 30,
   "id": "b39b7608",
   "metadata": {},
   "outputs": [
    {
     "data": {
      "text/html": [
       "<div>\n",
       "<style scoped>\n",
       "    .dataframe tbody tr th:only-of-type {\n",
       "        vertical-align: middle;\n",
       "    }\n",
       "\n",
       "    .dataframe tbody tr th {\n",
       "        vertical-align: top;\n",
       "    }\n",
       "\n",
       "    .dataframe thead th {\n",
       "        text-align: right;\n",
       "    }\n",
       "</style>\n",
       "<table border=\"1\" class=\"dataframe\">\n",
       "  <thead>\n",
       "    <tr style=\"text-align: right;\">\n",
       "      <th></th>\n",
       "      <th>year</th>\n",
       "      <th>period</th>\n",
       "      <th>CUURS23ASAR</th>\n",
       "      <th>CUUR0200SAS4</th>\n",
       "      <th>CUURS12BSAA</th>\n",
       "      <th>CUUR0100SAM</th>\n",
       "      <th>CUURS49DSEFV</th>\n",
       "      <th>CUURS49DSAF11</th>\n",
       "      <th>CUURS12BSAR</th>\n",
       "      <th>CUUR0000SERC02</th>\n",
       "      <th>CUUR0000SA0</th>\n",
       "      <th>myCPI</th>\n",
       "    </tr>\n",
       "  </thead>\n",
       "  <tbody>\n",
       "    <tr>\n",
       "      <th>0</th>\n",
       "      <td>2022</td>\n",
       "      <td>M08</td>\n",
       "      <td>123.405</td>\n",
       "      <td>348.590</td>\n",
       "      <td>112.289000</td>\n",
       "      <td>580.669</td>\n",
       "      <td>391.714000</td>\n",
       "      <td>317.676</td>\n",
       "      <td>131.309000</td>\n",
       "      <td>87.153</td>\n",
       "      <td>296.171</td>\n",
       "      <td>223.324190</td>\n",
       "    </tr>\n",
       "    <tr>\n",
       "      <th>1</th>\n",
       "      <td>2022</td>\n",
       "      <td>M07</td>\n",
       "      <td>120.838</td>\n",
       "      <td>348.248</td>\n",
       "      <td>110.585580</td>\n",
       "      <td>576.156</td>\n",
       "      <td>384.643182</td>\n",
       "      <td>317.686</td>\n",
       "      <td>132.122480</td>\n",
       "      <td>86.546</td>\n",
       "      <td>296.276</td>\n",
       "      <td>221.528545</td>\n",
       "    </tr>\n",
       "    <tr>\n",
       "      <th>2</th>\n",
       "      <td>2022</td>\n",
       "      <td>M06</td>\n",
       "      <td>120.646</td>\n",
       "      <td>353.242</td>\n",
       "      <td>108.908000</td>\n",
       "      <td>573.145</td>\n",
       "      <td>377.700000</td>\n",
       "      <td>311.685</td>\n",
       "      <td>132.941000</td>\n",
       "      <td>87.473</td>\n",
       "      <td>296.311</td>\n",
       "      <td>220.823160</td>\n",
       "    </tr>\n",
       "    <tr>\n",
       "      <th>3</th>\n",
       "      <td>2022</td>\n",
       "      <td>M05</td>\n",
       "      <td>120.756</td>\n",
       "      <td>352.820</td>\n",
       "      <td>108.674750</td>\n",
       "      <td>568.877</td>\n",
       "      <td>374.938404</td>\n",
       "      <td>310.451</td>\n",
       "      <td>132.083233</td>\n",
       "      <td>87.348</td>\n",
       "      <td>292.296</td>\n",
       "      <td>220.031235</td>\n",
       "    </tr>\n",
       "    <tr>\n",
       "      <th>4</th>\n",
       "      <td>2022</td>\n",
       "      <td>M04</td>\n",
       "      <td>120.529</td>\n",
       "      <td>340.863</td>\n",
       "      <td>108.442000</td>\n",
       "      <td>568.472</td>\n",
       "      <td>372.197000</td>\n",
       "      <td>306.625</td>\n",
       "      <td>131.231000</td>\n",
       "      <td>87.491</td>\n",
       "      <td>289.109</td>\n",
       "      <td>217.149920</td>\n",
       "    </tr>\n",
       "    <tr>\n",
       "      <th>...</th>\n",
       "      <td>...</td>\n",
       "      <td>...</td>\n",
       "      <td>...</td>\n",
       "      <td>...</td>\n",
       "      <td>...</td>\n",
       "      <td>...</td>\n",
       "      <td>...</td>\n",
       "      <td>...</td>\n",
       "      <td>...</td>\n",
       "      <td>...</td>\n",
       "      <td>...</td>\n",
       "      <td>...</td>\n",
       "    </tr>\n",
       "    <tr>\n",
       "      <th>63</th>\n",
       "      <td>2017</td>\n",
       "      <td>M05</td>\n",
       "      <td>111.163</td>\n",
       "      <td>308.659</td>\n",
       "      <td>111.730695</td>\n",
       "      <td>491.976</td>\n",
       "      <td>296.533420</td>\n",
       "      <td>249.725</td>\n",
       "      <td>122.971472</td>\n",
       "      <td>81.440</td>\n",
       "      <td>244.733</td>\n",
       "      <td>192.079259</td>\n",
       "    </tr>\n",
       "    <tr>\n",
       "      <th>64</th>\n",
       "      <td>2017</td>\n",
       "      <td>M04</td>\n",
       "      <td>113.185</td>\n",
       "      <td>307.524</td>\n",
       "      <td>113.182000</td>\n",
       "      <td>491.537</td>\n",
       "      <td>296.316000</td>\n",
       "      <td>248.565</td>\n",
       "      <td>123.055000</td>\n",
       "      <td>82.046</td>\n",
       "      <td>244.524</td>\n",
       "      <td>192.476820</td>\n",
       "    </tr>\n",
       "    <tr>\n",
       "      <th>65</th>\n",
       "      <td>2017</td>\n",
       "      <td>M03</td>\n",
       "      <td>113.501</td>\n",
       "      <td>304.921</td>\n",
       "      <td>113.759527</td>\n",
       "      <td>493.595</td>\n",
       "      <td>295.408109</td>\n",
       "      <td>249.135</td>\n",
       "      <td>123.673446</td>\n",
       "      <td>81.941</td>\n",
       "      <td>243.801</td>\n",
       "      <td>192.301984</td>\n",
       "    </tr>\n",
       "    <tr>\n",
       "      <th>66</th>\n",
       "      <td>2017</td>\n",
       "      <td>M02</td>\n",
       "      <td>111.345</td>\n",
       "      <td>303.383</td>\n",
       "      <td>114.340000</td>\n",
       "      <td>492.978</td>\n",
       "      <td>294.503000</td>\n",
       "      <td>247.070</td>\n",
       "      <td>124.295000</td>\n",
       "      <td>82.001</td>\n",
       "      <td>243.603</td>\n",
       "      <td>191.434590</td>\n",
       "    </tr>\n",
       "    <tr>\n",
       "      <th>67</th>\n",
       "      <td>2017</td>\n",
       "      <td>M01</td>\n",
       "      <td>107.772</td>\n",
       "      <td>302.297</td>\n",
       "      <td>114.923435</td>\n",
       "      <td>490.069</td>\n",
       "      <td>293.600664</td>\n",
       "      <td>242.755</td>\n",
       "      <td>124.919678</td>\n",
       "      <td>81.136</td>\n",
       "      <td>242.839</td>\n",
       "      <td>189.965301</td>\n",
       "    </tr>\n",
       "  </tbody>\n",
       "</table>\n",
       "<p>68 rows × 12 columns</p>\n",
       "</div>"
      ],
      "text/plain": [
       "    year period  CUURS23ASAR  CUUR0200SAS4  CUURS12BSAA  CUUR0100SAM  \\\n",
       "0   2022    M08      123.405       348.590   112.289000      580.669   \n",
       "1   2022    M07      120.838       348.248   110.585580      576.156   \n",
       "2   2022    M06      120.646       353.242   108.908000      573.145   \n",
       "3   2022    M05      120.756       352.820   108.674750      568.877   \n",
       "4   2022    M04      120.529       340.863   108.442000      568.472   \n",
       "..   ...    ...          ...           ...          ...          ...   \n",
       "63  2017    M05      111.163       308.659   111.730695      491.976   \n",
       "64  2017    M04      113.185       307.524   113.182000      491.537   \n",
       "65  2017    M03      113.501       304.921   113.759527      493.595   \n",
       "66  2017    M02      111.345       303.383   114.340000      492.978   \n",
       "67  2017    M01      107.772       302.297   114.923435      490.069   \n",
       "\n",
       "    CUURS49DSEFV  CUURS49DSAF11  CUURS12BSAR  CUUR0000SERC02  CUUR0000SA0  \\\n",
       "0     391.714000        317.676   131.309000          87.153      296.171   \n",
       "1     384.643182        317.686   132.122480          86.546      296.276   \n",
       "2     377.700000        311.685   132.941000          87.473      296.311   \n",
       "3     374.938404        310.451   132.083233          87.348      292.296   \n",
       "4     372.197000        306.625   131.231000          87.491      289.109   \n",
       "..           ...            ...          ...             ...          ...   \n",
       "63    296.533420        249.725   122.971472          81.440      244.733   \n",
       "64    296.316000        248.565   123.055000          82.046      244.524   \n",
       "65    295.408109        249.135   123.673446          81.941      243.801   \n",
       "66    294.503000        247.070   124.295000          82.001      243.603   \n",
       "67    293.600664        242.755   124.919678          81.136      242.839   \n",
       "\n",
       "         myCPI  \n",
       "0   223.324190  \n",
       "1   221.528545  \n",
       "2   220.823160  \n",
       "3   220.031235  \n",
       "4   217.149920  \n",
       "..         ...  \n",
       "63  192.079259  \n",
       "64  192.476820  \n",
       "65  192.301984  \n",
       "66  191.434590  \n",
       "67  189.965301  \n",
       "\n",
       "[68 rows x 12 columns]"
      ]
     },
     "execution_count": 30,
     "metadata": {},
     "output_type": "execute_result"
    }
   ],
   "source": [
    "myData"
   ]
  },
  {
   "cell_type": "markdown",
   "id": "57ee89c0",
   "metadata": {},
   "source": [
    "### 5. Inflation\n",
    "Compute the 12-month inflation for several lags based on your CPI and compare it with inflation based on the general CPI. Compare and discuss the results.\n",
    "Bonus: Put both on one graph and make sure the two lines are clearly labeled as well as the axes.\n"
   ]
  },
  {
   "cell_type": "code",
   "execution_count": 31,
   "id": "68636af4",
   "metadata": {},
   "outputs": [],
   "source": [
    "def inflation(lag):\n",
    "    # This function computes the percent change in the level of prices (inflation) for the \n",
    "    # 12 months starting '12+lag' months ago and ending 'lag' months ago.\n",
    "    # lag is an integer input\n",
    "    \n",
    "    new = float(result3['Results']['series'][0]['data'][lag]['value'])\n",
    "    old = float(result3['Results']['series'][0]['data'][12+lag]['value'])\n",
    "    \n",
    "    change = (new/old - 1)*100\n",
    "    print('Inflation in the period starting ', lag, 'months ago and ending', 12+lag, 'months ago was ',round(change,1),'%')\n",
    "    return change"
   ]
  },
  {
   "cell_type": "code",
   "execution_count": 32,
   "id": "f91fc0dd",
   "metadata": {},
   "outputs": [
    {
     "name": "stdout",
     "output_type": "stream",
     "text": [
      "Inflation in the period starting  0 months ago and ending 12 months ago was  7.2 %\n",
      "Inflation in the period starting  1 months ago and ending 13 months ago was  3.1 %\n",
      "Inflation in the period starting  2 months ago and ending 14 months ago was  3.4 %\n",
      "Inflation in the period starting  3 months ago and ending 15 months ago was  1.1 %\n",
      "Inflation in the period starting  4 months ago and ending 16 months ago was  1.4 %\n"
     ]
    }
   ],
   "source": [
    "for lag in [0,1,2,3,4]:\n",
    "    inflation(lag)\n",
    "    "
   ]
  },
  {
   "cell_type": "code",
   "execution_count": 33,
   "id": "0fd05e78",
   "metadata": {},
   "outputs": [],
   "source": [
    "from matplotlib import pyplot as plt"
   ]
  },
  {
   "cell_type": "code",
   "execution_count": 34,
   "id": "c5e98ca6",
   "metadata": {},
   "outputs": [
    {
     "name": "stdout",
     "output_type": "stream",
     "text": [
      "Inflation in the period starting  0 months ago and ending 12 months ago was  7.2 %\n",
      "Inflation in the period starting  1 months ago and ending 13 months ago was  3.1 %\n",
      "Inflation in the period starting  2 months ago and ending 14 months ago was  3.4 %\n",
      "Inflation in the period starting  3 months ago and ending 15 months ago was  1.1 %\n",
      "Inflation in the period starting  4 months ago and ending 16 months ago was  1.4 %\n",
      "Inflation in the period starting  5 months ago and ending 17 months ago was  3.0 %\n",
      "Inflation in the period starting  6 months ago and ending 18 months ago was  1.8 %\n",
      "Inflation in the period starting  7 months ago and ending 19 months ago was  3.2 %\n",
      "Inflation in the period starting  8 months ago and ending 20 months ago was  2.8 %\n",
      "Inflation in the period starting  9 months ago and ending 21 months ago was  0.2 %\n",
      "Inflation in the period starting  10 months ago and ending 22 months ago was  -0.5 %\n",
      "Inflation in the period starting  11 months ago and ending 23 months ago was  -5.0 %\n",
      "Inflation in the period starting  12 months ago and ending 24 months ago was  0.5 %\n"
     ]
    }
   ],
   "source": [
    "lags =[]\n",
    "changes2 = []\n",
    "for i in range(13):\n",
    "    lags.append(i)\n",
    "    changes2.append(inflation(i))"
   ]
  },
  {
   "cell_type": "code",
   "execution_count": 35,
   "id": "a7cf3026",
   "metadata": {},
   "outputs": [
    {
     "data": {
      "text/plain": [
       "[0, 1, 2, 3, 4, 5, 6, 7, 8, 9, 10, 11, 12]"
      ]
     },
     "execution_count": 35,
     "metadata": {},
     "output_type": "execute_result"
    }
   ],
   "source": [
    "lags"
   ]
  },
  {
   "cell_type": "code",
   "execution_count": 36,
   "id": "ae5918d8",
   "metadata": {},
   "outputs": [
    {
     "data": {
      "text/plain": [
       "[7.239689243443359,\n",
       " 3.0952990359184307,\n",
       " 3.418539662946385,\n",
       " 1.1136603419690916,\n",
       " 1.3811434387275279,\n",
       " 3.0479551801531723,\n",
       " 1.8206246757995537,\n",
       " 3.181471781081102,\n",
       " 2.7874472341437917,\n",
       " 0.17172245467225178,\n",
       " -0.4584402592318737,\n",
       " -5.024343592418711,\n",
       " 0.46972131033038433]"
      ]
     },
     "execution_count": 36,
     "metadata": {},
     "output_type": "execute_result"
    }
   ],
   "source": [
    "changes2"
   ]
  },
  {
   "cell_type": "code",
   "execution_count": 37,
   "id": "7f7081ba",
   "metadata": {},
   "outputs": [],
   "source": [
    "#lags.reverse()"
   ]
  },
  {
   "cell_type": "code",
   "execution_count": 38,
   "id": "8057a23a",
   "metadata": {},
   "outputs": [
    {
     "data": {
      "text/plain": [
       "[0, 1, 2, 3, 4, 5, 6, 7, 8, 9, 10, 11, 12]"
      ]
     },
     "execution_count": 38,
     "metadata": {},
     "output_type": "execute_result"
    }
   ],
   "source": [
    "lags"
   ]
  },
  {
   "cell_type": "code",
   "execution_count": 39,
   "id": "6917e749",
   "metadata": {},
   "outputs": [],
   "source": [
    "def int2str(i):\n",
    "    return str(i)\n",
    "\n",
    "mlags = map(int2str,lags)"
   ]
  },
  {
   "cell_type": "code",
   "execution_count": 40,
   "id": "90e36dca",
   "metadata": {},
   "outputs": [
    {
     "data": {
      "text/plain": [
       "<map at 0x7fa6cd3ff280>"
      ]
     },
     "execution_count": 40,
     "metadata": {},
     "output_type": "execute_result"
    }
   ],
   "source": [
    "mlags"
   ]
  },
  {
   "cell_type": "code",
   "execution_count": 41,
   "id": "bba2d7c3",
   "metadata": {},
   "outputs": [],
   "source": [
    "slags2 = list(mlags)"
   ]
  },
  {
   "cell_type": "code",
   "execution_count": 42,
   "id": "0da5cd98",
   "metadata": {},
   "outputs": [],
   "source": [
    "slags2.reverse()"
   ]
  },
  {
   "cell_type": "code",
   "execution_count": 43,
   "id": "7b766e41",
   "metadata": {},
   "outputs": [
    {
     "data": {
      "text/plain": [
       "['12', '11', '10', '9', '8', '7', '6', '5', '4', '3', '2', '1', '0']"
      ]
     },
     "execution_count": 43,
     "metadata": {},
     "output_type": "execute_result"
    }
   ],
   "source": [
    "slags2"
   ]
  },
  {
   "cell_type": "code",
   "execution_count": 44,
   "id": "69c848ff",
   "metadata": {},
   "outputs": [],
   "source": [
    "changes2.reverse()"
   ]
  },
  {
   "cell_type": "code",
   "execution_count": 45,
   "id": "7632f293",
   "metadata": {},
   "outputs": [
    {
     "data": {
      "text/plain": [
       "[<matplotlib.lines.Line2D at 0x7fa6cd45cf40>]"
      ]
     },
     "execution_count": 45,
     "metadata": {},
     "output_type": "execute_result"
    },
    {
     "data": {
      "image/png": "[encoded data removed]",
      "text/plain": [
       "<Figure size 432x288 with 1 Axes>"
      ]
     },
     "metadata": {
      "needs_background": "light"
     },
     "output_type": "display_data"
    }
   ],
   "source": [
    "plt.plot(slags2, changes2, color='blue', marker='o', linestyle='solid')"
   ]
  },
  {
   "cell_type": "code",
   "execution_count": 46,
   "id": "18b07b0a",
   "metadata": {},
   "outputs": [],
   "source": [
    "b4 = ['CUUR0000SA0']"
   ]
  },
  {
   "cell_type": "code",
   "execution_count": 47,
   "id": "c82dcb62",
   "metadata": {},
   "outputs": [
    {
     "name": "stdout",
     "output_type": "stream",
     "text": [
      "Series  CUUR0000SA0  exists\n"
     ]
    }
   ],
   "source": [
    "result4 = Series3(b4,key)"
   ]
  },
  {
   "cell_type": "code",
   "execution_count": 48,
   "id": "e2117693",
   "metadata": {},
   "outputs": [],
   "source": [
    "def inflation2(lag):\n",
    "    # This function computes the percent change in the level of prices (inflation) for the \n",
    "    # 12 months starting '12+lag' months ago and ending 'lag' months ago.\n",
    "    # lag is an integer input\n",
    "    \n",
    "    new = float(result4['Results']['series'][0]['data'][lag]['value'])\n",
    "    old = float(result4['Results']['series'][0]['data'][12+lag]['value'])\n",
    "    \n",
    "    change = (new/old - 1)*100\n",
    "    print('Inflation in the period starting ', lag, 'months ago and ending', 12+lag, 'months ago was ',round(change,1),'%')\n",
    "    return change"
   ]
  },
  {
   "cell_type": "code",
   "execution_count": 49,
   "id": "b1543a8c",
   "metadata": {},
   "outputs": [
    {
     "name": "stdout",
     "output_type": "stream",
     "text": [
      "Inflation in the period starting  0 months ago and ending 12 months ago was  8.3 %\n",
      "Inflation in the period starting  1 months ago and ending 13 months ago was  8.5 %\n",
      "Inflation in the period starting  2 months ago and ending 14 months ago was  9.1 %\n",
      "Inflation in the period starting  3 months ago and ending 15 months ago was  8.6 %\n",
      "Inflation in the period starting  4 months ago and ending 16 months ago was  8.3 %\n"
     ]
    }
   ],
   "source": [
    "for lag in [0,1,2,3,4]:\n",
    "    inflation2(lag)"
   ]
  },
  {
   "cell_type": "code",
   "execution_count": 50,
   "id": "133f3f6d",
   "metadata": {},
   "outputs": [
    {
     "name": "stdout",
     "output_type": "stream",
     "text": [
      "Inflation in the period starting  0 months ago and ending 12 months ago was  8.3 %\n",
      "Inflation in the period starting  1 months ago and ending 13 months ago was  8.5 %\n",
      "Inflation in the period starting  2 months ago and ending 14 months ago was  9.1 %\n",
      "Inflation in the period starting  3 months ago and ending 15 months ago was  8.6 %\n",
      "Inflation in the period starting  4 months ago and ending 16 months ago was  8.3 %\n",
      "Inflation in the period starting  5 months ago and ending 17 months ago was  8.5 %\n",
      "Inflation in the period starting  6 months ago and ending 18 months ago was  7.9 %\n",
      "Inflation in the period starting  7 months ago and ending 19 months ago was  7.5 %\n",
      "Inflation in the period starting  8 months ago and ending 20 months ago was  7.0 %\n",
      "Inflation in the period starting  9 months ago and ending 21 months ago was  6.8 %\n",
      "Inflation in the period starting  10 months ago and ending 22 months ago was  6.2 %\n",
      "Inflation in the period starting  11 months ago and ending 23 months ago was  5.4 %\n",
      "Inflation in the period starting  12 months ago and ending 24 months ago was  5.3 %\n"
     ]
    }
   ],
   "source": [
    "lags =[]\n",
    "changes = []\n",
    "for i in range(13):\n",
    "    lags.append(i)\n",
    "    changes.append(inflation2(i))\n"
   ]
  },
  {
   "cell_type": "code",
   "execution_count": 51,
   "id": "dae38c1b",
   "metadata": {},
   "outputs": [
    {
     "data": {
      "text/plain": [
       "[0, 1, 2, 3, 4, 5, 6, 7, 8, 9, 10, 11, 12]"
      ]
     },
     "execution_count": 51,
     "metadata": {},
     "output_type": "execute_result"
    }
   ],
   "source": [
    "lags"
   ]
  },
  {
   "cell_type": "code",
   "execution_count": 52,
   "id": "f3f494a8",
   "metadata": {},
   "outputs": [
    {
     "data": {
      "text/plain": [
       "[8.262692503116241,\n",
       " 8.52481474562552,\n",
       " 9.059757964784154,\n",
       " 8.581511543676523,\n",
       " 8.258629340882372,\n",
       " 8.542455554842432,\n",
       " 7.871063897739283,\n",
       " 7.479872468289117,\n",
       " 7.036402865545144,\n",
       " 6.809002839806477,\n",
       " 6.221868903328898,\n",
       " 5.390348855079163,\n",
       " 5.251271554874992]"
      ]
     },
     "execution_count": 52,
     "metadata": {},
     "output_type": "execute_result"
    }
   ],
   "source": [
    "changes"
   ]
  },
  {
   "cell_type": "code",
   "execution_count": 53,
   "id": "7a5c3576",
   "metadata": {},
   "outputs": [],
   "source": [
    "#lags.reverse()"
   ]
  },
  {
   "cell_type": "code",
   "execution_count": 54,
   "id": "504749d3",
   "metadata": {},
   "outputs": [
    {
     "data": {
      "text/plain": [
       "[0, 1, 2, 3, 4, 5, 6, 7, 8, 9, 10, 11, 12]"
      ]
     },
     "execution_count": 54,
     "metadata": {},
     "output_type": "execute_result"
    }
   ],
   "source": [
    "lags"
   ]
  },
  {
   "cell_type": "code",
   "execution_count": 55,
   "id": "51e14e5f",
   "metadata": {},
   "outputs": [],
   "source": [
    "def int2str(i):\n",
    "    return str(i)\n",
    "\n",
    "mlags = map(int2str,lags)"
   ]
  },
  {
   "cell_type": "code",
   "execution_count": 56,
   "id": "452f4b9e",
   "metadata": {},
   "outputs": [
    {
     "data": {
      "text/plain": [
       "<map at 0x7fa6cd6ea280>"
      ]
     },
     "execution_count": 56,
     "metadata": {},
     "output_type": "execute_result"
    }
   ],
   "source": [
    "mlags"
   ]
  },
  {
   "cell_type": "code",
   "execution_count": 57,
   "id": "b96f18b7",
   "metadata": {},
   "outputs": [],
   "source": [
    "slags = list(mlags)"
   ]
  },
  {
   "cell_type": "code",
   "execution_count": 58,
   "id": "fa557376",
   "metadata": {},
   "outputs": [],
   "source": [
    "slags.reverse()"
   ]
  },
  {
   "cell_type": "code",
   "execution_count": 59,
   "id": "1c840c41",
   "metadata": {},
   "outputs": [
    {
     "data": {
      "text/plain": [
       "['12', '11', '10', '9', '8', '7', '6', '5', '4', '3', '2', '1', '0']"
      ]
     },
     "execution_count": 59,
     "metadata": {},
     "output_type": "execute_result"
    }
   ],
   "source": [
    "slags"
   ]
  },
  {
   "cell_type": "code",
   "execution_count": 60,
   "id": "e6a2df97",
   "metadata": {},
   "outputs": [],
   "source": [
    "changes.reverse()"
   ]
  },
  {
   "cell_type": "code",
   "execution_count": 61,
   "id": "422c5473",
   "metadata": {},
   "outputs": [
    {
     "data": {
      "text/plain": [
       "[<matplotlib.lines.Line2D at 0x7fa6cd6fadc0>]"
      ]
     },
     "execution_count": 61,
     "metadata": {},
     "output_type": "execute_result"
    },
    {
     "data": {
      "image/png": "[encoded data removed]",
      "text/plain": [
       "<Figure size 432x288 with 1 Axes>"
      ]
     },
     "metadata": {
      "needs_background": "light"
     },
     "output_type": "display_data"
    }
   ],
   "source": [
    "plt.plot(slags, changes, color='green', marker='o', linestyle='solid')"
   ]
  },
  {
   "cell_type": "markdown",
   "id": "efb72fb1",
   "metadata": {},
   "source": [
    "### Comparison between our CPI inflation rates and general CPI inflation rates\n",
    "- Our inflation rates are consistently lower than the inflation rates of the general CPI.\n",
    "- This differences can be attributed to the selection of items we chose.\n",
    "- The prices of the items we chose to include in our basket did not change significantly in price over the five year period."
   ]
  },
  {
   "cell_type": "code",
   "execution_count": 62,
   "id": "007d525f",
   "metadata": {},
   "outputs": [
    {
     "data": {
      "image/png": "[encoded data removed]",
      "text/plain": [
       "<Figure size 432x288 with 1 Axes>"
      ]
     },
     "metadata": {
      "needs_background": "light"
     },
     "output_type": "display_data"
    }
   ],
   "source": [
    "plt.plot(slags, changes, color='green', marker='o', linestyle='solid', label= \"general CPI\")\n",
    "plt.plot(slags2, changes2, color='blue', marker='o', linestyle='solid', label = \"my CPI\")\n",
    "plt.title(\"Yearly change in CPI-U\")\n",
    "plt.xlabel(\"lags (months)\")\n",
    "plt.ylabel(\"Inflation\")\n",
    "plt.legend()\n",
    "plt.show()"
   ]
  },
  {
   "cell_type": "code",
   "execution_count": null,
   "id": "9f3e1203",
   "metadata": {},
   "outputs": [],
   "source": []
  }
 ],
 "metadata": {
  "kernelspec": {
   "display_name": "Python 3 (ipykernel)",
   "language": "python",
   "name": "python3"
  },
  "language_info": {
   "codemirror_mode": {
    "name": "ipython",
    "version": 3
   },
   "file_extension": ".py",
   "mimetype": "text/x-python",
   "name": "python",
   "nbconvert_exporter": "python",
   "pygments_lexer": "ipython3",
   "version": "3.9.12"
  }
 },
 "nbformat": 4,
 "nbformat_minor": 5
}
